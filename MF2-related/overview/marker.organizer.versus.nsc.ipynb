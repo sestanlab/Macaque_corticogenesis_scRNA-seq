{
 "cells": [
  {
   "cell_type": "code",
   "execution_count": 1,
   "metadata": {
    "scrolled": true
   },
   "outputs": [
    {
     "name": "stderr",
     "output_type": "stream",
     "text": [
      "Registered S3 methods overwritten by 'tibble':\n",
      "  method     from  \n",
      "  format.tbl pillar\n",
      "  print.tbl  pillar\n",
      "\n",
      "\n",
      "Attaching package: ‘dplyr’\n",
      "\n",
      "\n",
      "The following objects are masked from ‘package:stats’:\n",
      "\n",
      "    filter, lag\n",
      "\n",
      "\n",
      "The following objects are masked from ‘package:base’:\n",
      "\n",
      "    intersect, setdiff, setequal, union\n",
      "\n",
      "\n"
     ]
    }
   ],
   "source": [
    "## Calculate organizer subtype markers by comparing each of them versus other dorsal/ventral NSCs & early subtypes\n",
    "library(Seurat)\n",
    "library(tibble)\n",
    "library(dplyr)"
   ]
  },
  {
   "cell_type": "code",
   "execution_count": 2,
   "metadata": {
    "scrolled": false
   },
   "outputs": [],
   "source": [
    "## Calculate the markers\n",
    "resFile <- \"./load_files/MarRes_PATvsNSC.rds\"\n",
    "if (!file.exists(resFile)){\n",
    "    message(\"Loading the full macaque scRNA-seq data\")\n",
    "    load(file = \"../../MF1/overview/load_files/Macaque.developing.seurat.Rdata\")\n",
    "    ## mac, subtype_order, subclass_order\n",
    "    \n",
    "    ## subset to only early stem cells and subtypes\n",
    "    message(\"Subset to NPCs\")\n",
    "    npc <- subset(mac, subclass %in% c(\"Patterning centers\", \"dorsal NSC\", \"GE NSC\", \"Early subtypes\"))\n",
    "    npc_cls <- levels(as.factor(as.character(npc$subtype)))\n",
    "    organizer_cls <- c(\"PC FGF17\", \"AntVen NKX2-1 LMO1\", \"AntVen NKX2-1 NKX6-2\", \n",
    "                       \"GE RG NKX2-1 DLK1\", \"GE RG NKX2-1 OLIG1\", \n",
    "                       \"PC RSPO3\", \"PC TTR\", \"PC SFRP2\", \"PC TCF7L2\")\n",
    "    bgcls <- setdiff(npc_cls, organizer_cls)\n",
    "\n",
    "    message(\"Finding markers\")\n",
    "    allres <- lapply(organizer_cls, function(cls) {\n",
    "        print(paste0(\"Calculating markers for subtype:\", cls))\n",
    "        Idents(npc) <- \"subtype\"\n",
    "        res <- FindMarkers(npc, ident.1 = cls, ident.2 = bgcls, min.pct = 0.1, \n",
    "                           logfc.threshold = 0.1, base = exp(1), fc.name = \"avg_logFC\",\n",
    "                           max.cells.per.ident = 1000, only.pos = TRUE) ## To be consistent with seurat v3\n",
    "        res <- res %>%\n",
    "                rownames_to_column(\"gene\") %>%\n",
    "                mutate(cluster = cls) %>%\n",
    "                mutate(ratio_fc = (pct.1 + 0.01)/(pct.2 + 0.01))\n",
    "        return(res)\n",
    "        }) %>%\n",
    "        do.call(rbind, .)\n",
    "\n",
    "    saveRDS(allres, file = \"./load_files/MarRes_PATvsNSC.rds\")\n",
    "}"
   ]
  },
  {
   "cell_type": "code",
   "execution_count": 3,
   "metadata": {},
   "outputs": [
    {
     "data": {
      "text/plain": [
       "\n",
       "  AntVen NKX2-1 LMO1 AntVen NKX2-1 NKX6-2    GE RG NKX2-1 DLK1 \n",
       "                 357                  476                  308 \n",
       "  GE RG NKX2-1 OLIG1             PC FGF17             PC RSPO3 \n",
       "                 242                  367                  376 \n",
       "            PC SFRP2            PC TCF7L2               PC TTR \n",
       "                 514                  901                  977 "
      ]
     },
     "metadata": {},
     "output_type": "display_data"
    },
    {
     "data": {
      "text/plain": [
       "\n",
       "  AntVen NKX2-1 LMO1 AntVen NKX2-1 NKX6-2    GE RG NKX2-1 DLK1 \n",
       "                 280                  379                  269 \n",
       "  GE RG NKX2-1 OLIG1             PC FGF17             PC RSPO3 \n",
       "                 215                  387                  499 \n",
       "            PC SFRP2            PC TCF7L2               PC TTR \n",
       "                 285                  821                 1102 "
      ]
     },
     "metadata": {},
     "output_type": "display_data"
    }
   ],
   "source": [
    "## Load the calculated marker results\n",
    "allres <- readRDS(file = \"./load_files/MarRes_PATvsNSC.rds\")\n",
    "npc_use <- readRDS(file = \"./load_files/MarRes_PATvsNSC_subtype_used.rds\")\n",
    "\n",
    "\n",
    "## Also load the organizer markers (comparisons within organizer cells), do the intersection between\n",
    "## 1. each organizer subtype compared to all other organizer subtypes\n",
    "## 2. each organizer subtype compared to all NSCs subtypes\n",
    "org_exclu_mars <- readRDS(file = \"../../MF2_organizer/overview/load_files/PAT_markers_withincompare.rds\")\n",
    "table(allres$cluster)\n",
    "table(org_exclu_mars$cluster)"
   ]
  },
  {
   "cell_type": "code",
   "execution_count": 4,
   "metadata": {
    "scrolled": true
   },
   "outputs": [
    {
     "data": {
      "text/html": [
       "<table class=\"dataframe\">\n",
       "<caption>A data.frame: 6 × 8</caption>\n",
       "<thead>\n",
       "\t<tr><th></th><th scope=col>gene</th><th scope=col>p_val</th><th scope=col>p_val_adj</th><th scope=col>avg_logFC</th><th scope=col>pct.1</th><th scope=col>pct.2</th><th scope=col>ratio_fc</th><th scope=col>cluster</th></tr>\n",
       "\t<tr><th></th><th scope=col>&lt;chr&gt;</th><th scope=col>&lt;dbl&gt;</th><th scope=col>&lt;dbl&gt;</th><th scope=col>&lt;dbl&gt;</th><th scope=col>&lt;dbl&gt;</th><th scope=col>&lt;dbl&gt;</th><th scope=col>&lt;dbl&gt;</th><th scope=col>&lt;chr&gt;</th></tr>\n",
       "</thead>\n",
       "<tbody>\n",
       "\t<tr><th scope=row>1</th><td>FGF17       </td><td>1.782225e-265</td><td>6.169886e-261</td><td>1.2498785</td><td>0.803</td><td>0.011</td><td>38.71429</td><td>PC FGF17</td></tr>\n",
       "\t<tr><th scope=row>2</th><td>FGF18       </td><td> 2.017336e-65</td><td> 6.983815e-61</td><td>0.3746504</td><td>0.257</td><td>0.003</td><td>20.53846</td><td>PC FGF17</td></tr>\n",
       "\t<tr><th scope=row>3</th><td>FGF8        </td><td> 1.960382e-44</td><td> 6.786646e-40</td><td>0.3091914</td><td>0.181</td><td>0.001</td><td>17.36364</td><td>PC FGF17</td></tr>\n",
       "\t<tr><th scope=row>4</th><td>DLK1        </td><td>5.720191e-243</td><td>1.980273e-238</td><td>0.9951232</td><td>0.795</td><td>0.037</td><td>17.12766</td><td>PC FGF17</td></tr>\n",
       "\t<tr><th scope=row>5</th><td>LOC114676270</td><td> 1.333273e-77</td><td> 4.615657e-73</td><td>0.4119057</td><td>0.342</td><td>0.012</td><td>16.00000</td><td>PC FGF17</td></tr>\n",
       "\t<tr><th scope=row>6</th><td>CLYBL       </td><td>1.537749e-129</td><td>5.323533e-125</td><td>0.5820470</td><td>0.510</td><td>0.029</td><td>13.33333</td><td>PC FGF17</td></tr>\n",
       "</tbody>\n",
       "</table>\n"
      ],
      "text/latex": [
       "A data.frame: 6 × 8\n",
       "\\begin{tabular}{r|llllllll}\n",
       "  & gene & p\\_val & p\\_val\\_adj & avg\\_logFC & pct.1 & pct.2 & ratio\\_fc & cluster\\\\\n",
       "  & <chr> & <dbl> & <dbl> & <dbl> & <dbl> & <dbl> & <dbl> & <chr>\\\\\n",
       "\\hline\n",
       "\t1 & FGF17        & 1.782225e-265 & 6.169886e-261 & 1.2498785 & 0.803 & 0.011 & 38.71429 & PC FGF17\\\\\n",
       "\t2 & FGF18        &  2.017336e-65 &  6.983815e-61 & 0.3746504 & 0.257 & 0.003 & 20.53846 & PC FGF17\\\\\n",
       "\t3 & FGF8         &  1.960382e-44 &  6.786646e-40 & 0.3091914 & 0.181 & 0.001 & 17.36364 & PC FGF17\\\\\n",
       "\t4 & DLK1         & 5.720191e-243 & 1.980273e-238 & 0.9951232 & 0.795 & 0.037 & 17.12766 & PC FGF17\\\\\n",
       "\t5 & LOC114676270 &  1.333273e-77 &  4.615657e-73 & 0.4119057 & 0.342 & 0.012 & 16.00000 & PC FGF17\\\\\n",
       "\t6 & CLYBL        & 1.537749e-129 & 5.323533e-125 & 0.5820470 & 0.510 & 0.029 & 13.33333 & PC FGF17\\\\\n",
       "\\end{tabular}\n"
      ],
      "text/markdown": [
       "\n",
       "A data.frame: 6 × 8\n",
       "\n",
       "| <!--/--> | gene &lt;chr&gt; | p_val &lt;dbl&gt; | p_val_adj &lt;dbl&gt; | avg_logFC &lt;dbl&gt; | pct.1 &lt;dbl&gt; | pct.2 &lt;dbl&gt; | ratio_fc &lt;dbl&gt; | cluster &lt;chr&gt; |\n",
       "|---|---|---|---|---|---|---|---|---|\n",
       "| 1 | FGF17        | 1.782225e-265 | 6.169886e-261 | 1.2498785 | 0.803 | 0.011 | 38.71429 | PC FGF17 |\n",
       "| 2 | FGF18        |  2.017336e-65 |  6.983815e-61 | 0.3746504 | 0.257 | 0.003 | 20.53846 | PC FGF17 |\n",
       "| 3 | FGF8         |  1.960382e-44 |  6.786646e-40 | 0.3091914 | 0.181 | 0.001 | 17.36364 | PC FGF17 |\n",
       "| 4 | DLK1         | 5.720191e-243 | 1.980273e-238 | 0.9951232 | 0.795 | 0.037 | 17.12766 | PC FGF17 |\n",
       "| 5 | LOC114676270 |  1.333273e-77 |  4.615657e-73 | 0.4119057 | 0.342 | 0.012 | 16.00000 | PC FGF17 |\n",
       "| 6 | CLYBL        | 1.537749e-129 | 5.323533e-125 | 0.5820470 | 0.510 | 0.029 | 13.33333 | PC FGF17 |\n",
       "\n"
      ],
      "text/plain": [
       "  gene         p_val         p_val_adj     avg_logFC pct.1 pct.2 ratio_fc\n",
       "1 FGF17        1.782225e-265 6.169886e-261 1.2498785 0.803 0.011 38.71429\n",
       "2 FGF18         2.017336e-65  6.983815e-61 0.3746504 0.257 0.003 20.53846\n",
       "3 FGF8          1.960382e-44  6.786646e-40 0.3091914 0.181 0.001 17.36364\n",
       "4 DLK1         5.720191e-243 1.980273e-238 0.9951232 0.795 0.037 17.12766\n",
       "5 LOC114676270  1.333273e-77  4.615657e-73 0.4119057 0.342 0.012 16.00000\n",
       "6 CLYBL        1.537749e-129 5.323533e-125 0.5820470 0.510 0.029 13.33333\n",
       "  cluster \n",
       "1 PC FGF17\n",
       "2 PC FGF17\n",
       "3 PC FGF17\n",
       "4 PC FGF17\n",
       "5 PC FGF17\n",
       "6 PC FGF17"
      ]
     },
     "metadata": {},
     "output_type": "display_data"
    }
   ],
   "source": [
    "## Intersect marker list to get the markers\n",
    "organizer_cls <- c(\"PC FGF17\", \"AntVen NKX2-1 LMO1\", \"AntVen NKX2-1 NKX6-2\", \n",
    "                       \"GE RG NKX2-1 DLK1\", \"GE RG NKX2-1 OLIG1\", \n",
    "                       \"PC RSPO3\", \"PC TTR\", \"PC SFRP2\", \"PC TCF7L2\")\n",
    "mars_df <- lapply(organizer_cls, function(cls){\n",
    "    mm_vs_npcs <- allres %>%\n",
    "                    filter(cluster %in% cls)\n",
    "    mm_vs_org <- org_exclu_mars %>%\n",
    "                    filter(cluster %in% cls) %>%\n",
    "                    .$gene\n",
    "    mm_vs_org <- mm_vs_org[1:min(200, length(mm_vs_org))]\n",
    "    sh_genes <- intersect(mm_vs_npcs$gene, mm_vs_org)\n",
    "    gene_ord <- mm_vs_npcs %>%\n",
    "                    filter(gene %in% sh_genes) %>%\n",
    "                    mutate(ratio_fc_round = round(ratio_fc, digits = 1)) %>%\n",
    "                    arrange(desc(ratio_fc), desc(avg_logFC)) %>%\n",
    "                    select(-ratio_fc_round)\n",
    "    gene_ord <- gene_ord[, c(\"gene\", \"p_val\", \"p_val_adj\", \"avg_logFC\", \"pct.1\", \"pct.2\", \"ratio_fc\", \"cluster\")]\n",
    "    return(gene_ord)\n",
    "}) %>%\n",
    "    do.call(rbind, .)\n",
    "head(mars_df)"
   ]
  },
  {
   "cell_type": "code",
   "execution_count": 5,
   "metadata": {},
   "outputs": [],
   "source": [
    "## Write out to a table (for the paper)\n",
    "mars_out <- mars_df\n",
    "colnames(mars_out) <- c(\"gene\", \"Raw P value\", \"Adjusted P value\", \n",
    "                        \"Fold changes of average expression in log scale\",\n",
    "                       \"Expression ratio (this subtype)\", \"Expression ratio (background)\", \n",
    "                        \"Ration fold changes\", \"Subtype\")\n",
    "\n",
    "\n",
    "## Add pathway annotation\n",
    "new.list <- readRDS(file = \"./load_files/Pathway_updated_20221219.rds\") ## signaling pathway annotations\n",
    "## Add pathway annotation\n",
    "for (pa in names(new.list)){\n",
    "    mars_out[, paste0(\"Pathway_\", pa)] <- ifelse(mars_out$gene %in% new.list[[pa]], 1, 0)\n",
    "}\n",
    "\n",
    "\n",
    "write.table(mars_out, file = \"./report/table_PAT_markers_compared_to_NSCs.txt\", \n",
    "            row.names = FALSE, col.names = TRUE, sep = \"\\t\", quote = FALSE)\n"
   ]
  },
  {
   "cell_type": "code",
   "execution_count": 6,
   "metadata": {},
   "outputs": [],
   "source": [
    "## Write to tables (for Carlo)\n",
    "mars <- split(mars_df$gene, mars_df$cluster) %>% lapply(., unique)\n",
    "out.list <- sapply(1:length(mars), function(x) paste(c(names(mars)[x], mars[[x]]), collapse = \"\\t\"))\n",
    "writeLines(out.list, con = \"./load_files/PAT_markers_compared_to_NSCs.txt\")"
   ]
  },
  {
   "cell_type": "code",
   "execution_count": 7,
   "metadata": {},
   "outputs": [
    {
     "data": {
      "text/plain": [
       "R version 3.6.1 (2019-07-05)\n",
       "Platform: x86_64-pc-linux-gnu (64-bit)\n",
       "Running under: Red Hat Enterprise Linux Server 7.9 (Maipo)\n",
       "\n",
       "Matrix products: default\n",
       "BLAS:   /gpfs/ycga/home/sm2726/packages/R_versions/R-3.6.1/lib64/R/lib/libRblas.so\n",
       "LAPACK: /gpfs/ycga/home/sm2726/packages/R_versions/R-3.6.1/lib64/R/lib/libRlapack.so\n",
       "\n",
       "locale:\n",
       " [1] LC_CTYPE=en_US.UTF-8       LC_NUMERIC=C              \n",
       " [3] LC_TIME=en_US.UTF-8        LC_COLLATE=en_US.UTF-8    \n",
       " [5] LC_MONETARY=en_US.UTF-8    LC_MESSAGES=en_US.UTF-8   \n",
       " [7] LC_PAPER=en_US.UTF-8       LC_NAME=C                 \n",
       " [9] LC_ADDRESS=C               LC_TELEPHONE=C            \n",
       "[11] LC_MEASUREMENT=en_US.UTF-8 LC_IDENTIFICATION=C       \n",
       "\n",
       "attached base packages:\n",
       "[1] stats     graphics  grDevices utils     datasets  methods   base     \n",
       "\n",
       "other attached packages:\n",
       "[1] dplyr_1.0.7  tibble_3.0.1 Seurat_3.1.5\n",
       "\n",
       "loaded via a namespace (and not attached):\n",
       " [1] httr_1.4.1          tidyr_1.1.3         jsonlite_1.6.1     \n",
       " [4] viridisLite_0.3.0   splines_3.6.1       lsei_1.2-0.1       \n",
       " [7] leiden_0.3.3        assertthat_0.2.1    ggrepel_0.8.2      \n",
       "[10] globals_0.12.5      pillar_1.6.2        lattice_0.20-41    \n",
       "[13] glue_1.6.2          reticulate_1.15     uuid_1.1-0         \n",
       "[16] digest_0.6.25       RColorBrewer_1.1-2  colorspace_1.4-1   \n",
       "[19] cowplot_1.0.0       htmltools_0.5.1.1   Matrix_1.2-18      \n",
       "[22] plyr_1.8.6          pkgconfig_2.0.3     tsne_0.1-3         \n",
       "[25] listenv_0.8.0       purrr_0.3.4         patchwork_1.0.0    \n",
       "[28] scales_1.1.1        RANN_2.6.1          Rtsne_0.15         \n",
       "[31] generics_0.1.0      ggplot2_3.3.0       ellipsis_0.3.2     \n",
       "[34] repr_1.1.6          ROCR_1.0-11         pbapply_1.4-2      \n",
       "[37] lazyeval_0.2.2      survival_3.1-12     magrittr_2.0.3     \n",
       "[40] crayon_1.3.4        evaluate_0.15       future_1.17.0      \n",
       "[43] fansi_0.4.1         nlme_3.1-147        MASS_7.3-51.6      \n",
       "[46] ica_1.0-2           tools_3.6.1         fitdistrplus_1.0-14\n",
       "[49] data.table_1.12.8   lifecycle_1.0.0     stringr_1.4.0      \n",
       "[52] plotly_4.9.2.1      munsell_0.5.0       cluster_2.1.0      \n",
       "[55] irlba_2.3.3         compiler_3.6.1      rsvd_1.0.3         \n",
       "[58] rlang_0.4.11        grid_3.6.1          ggridges_0.5.3     \n",
       "[61] pbdZMQ_0.3-9        IRkernel_1.3.2      RcppAnnoy_0.0.16   \n",
       "[64] htmlwidgets_1.5.1   igraph_1.2.5        base64enc_0.1-3    \n",
       "[67] npsurv_0.4-0.1      gtable_0.3.0        codetools_0.2-16   \n",
       "[70] DBI_1.1.0           reshape2_1.4.4      R6_2.4.1           \n",
       "[73] gridExtra_2.3       zoo_1.8-8           uwot_0.1.8         \n",
       "[76] future.apply_1.5.0  utf8_1.1.4          KernSmooth_2.23-17 \n",
       "[79] ape_5.3             stringi_1.4.6       parallel_3.6.1     \n",
       "[82] IRdisplay_1.1       Rcpp_1.0.6          sctransform_0.2.1  \n",
       "[85] vctrs_0.3.8         png_0.1-7           tidyselect_1.1.0   \n",
       "[88] lmtest_0.9-37      "
      ]
     },
     "metadata": {},
     "output_type": "display_data"
    }
   ],
   "source": [
    "sessionInfo()"
   ]
  }
 ],
 "metadata": {
  "kernelspec": {
   "display_name": "R",
   "language": "R",
   "name": "ir"
  },
  "language_info": {
   "codemirror_mode": "r",
   "file_extension": ".r",
   "mimetype": "text/x-r-source",
   "name": "R",
   "pygments_lexer": "r",
   "version": "3.6.1"
  }
 },
 "nbformat": 4,
 "nbformat_minor": 2
}
