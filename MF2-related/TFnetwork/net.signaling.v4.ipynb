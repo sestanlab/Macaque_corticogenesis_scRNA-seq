{
 "cells": [
  {
   "cell_type": "code",
   "execution_count": 1,
   "id": "0936277b",
   "metadata": {},
   "outputs": [
    {
     "name": "stderr",
     "output_type": "stream",
     "text": [
      "\n",
      "Attaching package: ‘dplyr’\n",
      "\n",
      "\n",
      "The following objects are masked from ‘package:stats’:\n",
      "\n",
      "    filter, lag\n",
      "\n",
      "\n",
      "The following objects are masked from ‘package:base’:\n",
      "\n",
      "    intersect, setdiff, setequal, union\n",
      "\n",
      "\n",
      "\n",
      "Attaching package: ‘tidyr’\n",
      "\n",
      "\n",
      "The following objects are masked from ‘package:Matrix’:\n",
      "\n",
      "    expand, pack, unpack\n",
      "\n",
      "\n",
      "\n",
      "Attaching package: ‘ggpubr’\n",
      "\n",
      "\n",
      "The following object is masked from ‘package:cowplot’:\n",
      "\n",
      "    get_legend\n",
      "\n",
      "\n",
      "Loading required package: viridisLite\n",
      "\n",
      "Attaching SeuratObject\n",
      "\n",
      "\n",
      "Attaching package: ‘igraph’\n",
      "\n",
      "\n",
      "The following object is masked from ‘package:tidyr’:\n",
      "\n",
      "    crossing\n",
      "\n",
      "\n",
      "The following objects are masked from ‘package:dplyr’:\n",
      "\n",
      "    as_data_frame, groups, union\n",
      "\n",
      "\n",
      "The following object is masked from ‘package:tibble’:\n",
      "\n",
      "    as_data_frame\n",
      "\n",
      "\n",
      "The following objects are masked from ‘package:stats’:\n",
      "\n",
      "    decompose, spectrum\n",
      "\n",
      "\n",
      "The following object is masked from ‘package:base’:\n",
      "\n",
      "    union\n",
      "\n",
      "\n"
     ]
    }
   ],
   "source": [
    "## Run the TF-target network analysis acrosss patterning center subtypes\n",
    "## Overlay the signaling pathway information on TF-target network\n",
    "source(\"./nhpf.fun.R\")\n",
    "source(\"./net.fun.v3.R\")\n",
    "suppressPackageStartupMessages(library(ggforce))\n",
    "suppressPackageStartupMessages(library(scatterpie))\n",
    "suppressPackageStartupMessages(library(qgraph))"
   ]
  },
  {
   "cell_type": "code",
   "execution_count": 2,
   "id": "3a5be4d0",
   "metadata": {},
   "outputs": [],
   "source": [
    "## system(\"cp ../MF_pat_v3/load_files/PAT_inte.organizer.inte.rds ./load_files/\")\n",
    "pat <- readRDS(file = \"../overview/load_files/PAT_inte.organizer.inte.rds\")\n",
    "sel_cls <- c(\"PC FGF17\", \"PC NKX2-1 NKX6-2\", \"PC NKX2-1 LMO1\", \"GE_RG_NKX2-1_DLK1\", \"GE_RG_NKX2-1_OLIG1\", \n",
    "             \"PC RSPO3\", \"PC TTR\", \"PC SFRP2\", \"PC TCF7L2\")"
   ]
  },
  {
   "cell_type": "code",
   "execution_count": 3,
   "id": "857ac523",
   "metadata": {},
   "outputs": [],
   "source": [
    "## In this cell, cell markers & motif enrichment are calculated\n",
    "## Use the organizer markers for the TF-target network analysis\n",
    "## system(\"cp ../MF_pat_v3/load_files/PAT_markers.Rdata ./load_files/\")\n",
    "load(file = paste0(\"./load_files/PAT_markers.Rdata\"))\n",
    "cc_genes <- get_genes(input_genes = rownames(pat), gene_type = \"cc\", revised = TRUE) ## remove cycle genes\n",
    "\n",
    "\n",
    "## Do some filtering to get markers\n",
    "slim_res <- lapply(sel_cls, function(cls) {\n",
    "    ncls <- gsub(\"PC NKX2-1\", \"AV NKX2-1\", cls) %>%\n",
    "    gsub(\"GE_RG_NKX2-1_DLK1\", \"GE RG NKX2-1 DLK1\", .) %>%\n",
    "    gsub(\"GE_RG_NKX2-1_OLIG1\", \"GE RG NKX2-1 OLIG1\", .)\n",
    "\n",
    "    yy <- mar_res[[cls]] %>%\n",
    "            subset(ratio_fc >= 1.1) %>%\n",
    "            subset(pct.1 >= 0.1) %>%\n",
    "            subset(!gene %in% cc_genes) %>%\n",
    "            mutate(p_val_adj = p.adjust(p_val, method = \"fdr\")) %>%\n",
    "            subset(p_val_adj <= 0.01) %>%\n",
    "            arrange(desc(ratio_fc)) %>%\n",
    "            ungroup()\n",
    "    yy\n",
    "    }) %>%\n",
    "    setNames(., sel_cls)\n",
    "\n",
    "\n",
    "## Use motif enrichment to build initial regulons\n",
    "all_genes <- lapply(slim_res, function(x) x$gene) %>% \n",
    "                    unlist() %>% \n",
    "                    unique()\n",
    "step1_file <- paste0(\"./load_files/PAT_TF-target_motif_res.rds\")\n",
    "if (!file.exists(step1_file)) {\n",
    "    source(\"./motif.fun.R\")\n",
    "    mot_res <- MotifEnrich(input_genes = all_genes, input_dir = \"./load_files/\", \n",
    "                           upstream = 800, downstream = 100, nCores = 12)\n",
    "    saveRDS(mot_res, file = step1_file)\n",
    "} else {\n",
    "    mot_res <- readRDS(file = step1_file)\n",
    "}\n"
   ]
  },
  {
   "cell_type": "code",
   "execution_count": 4,
   "id": "873b02c0",
   "metadata": {},
   "outputs": [
    {
     "data": {
      "text/html": [
       "<style>\n",
       ".list-inline {list-style: none; margin:0; padding: 0}\n",
       ".list-inline>li {display: inline-block}\n",
       ".list-inline>li:not(:last-child)::after {content: \"\\00b7\"; padding: 0 .5ex}\n",
       "</style>\n",
       "<ol class=list-inline><li>'data'</li><li>'meta'</li><li>'score'</li></ol>\n"
      ],
      "text/latex": [
       "\\begin{enumerate*}\n",
       "\\item 'data'\n",
       "\\item 'meta'\n",
       "\\item 'score'\n",
       "\\end{enumerate*}\n"
      ],
      "text/markdown": [
       "1. 'data'\n",
       "2. 'meta'\n",
       "3. 'score'\n",
       "\n",
       "\n"
      ],
      "text/plain": [
       "[1] \"data\"  \"meta\"  \"score\""
      ]
     },
     "metadata": {},
     "output_type": "display_data"
    },
    {
     "data": {
      "text/html": [
       "<style>\n",
       ".list-inline {list-style: none; margin:0; padding: 0}\n",
       ".list-inline>li {display: inline-block}\n",
       ".list-inline>li:not(:last-child)::after {content: \"\\00b7\"; padding: 0 .5ex}\n",
       "</style>\n",
       "<ol class=list-inline><li>3046</li><li>181</li></ol>\n"
      ],
      "text/latex": [
       "\\begin{enumerate*}\n",
       "\\item 3046\n",
       "\\item 181\n",
       "\\end{enumerate*}\n"
      ],
      "text/markdown": [
       "1. 3046\n",
       "2. 181\n",
       "\n",
       "\n"
      ],
      "text/plain": [
       "[1] 3046  181"
      ]
     },
     "metadata": {},
     "output_type": "display_data"
    },
    {
     "data": {
      "text/html": [
       "3056"
      ],
      "text/latex": [
       "3056"
      ],
      "text/markdown": [
       "3056"
      ],
      "text/plain": [
       "[1] 3056"
      ]
     },
     "metadata": {},
     "output_type": "display_data"
    },
    {
     "data": {
      "text/html": [
       "<table class=\"dataframe\">\n",
       "<caption>A data.frame: 6 × 1</caption>\n",
       "<thead>\n",
       "\t<tr><th></th><th scope=col>gene</th></tr>\n",
       "\t<tr><th></th><th scope=col>&lt;chr&gt;</th></tr>\n",
       "</thead>\n",
       "<tbody>\n",
       "\t<tr><th scope=row>ARID5B-M00143_1.94d</th><td>ARID5B</td></tr>\n",
       "\t<tr><th scope=row>ARX-M05566_1.94d</th><td>ARX   </td></tr>\n",
       "\t<tr><th scope=row>ARX-M08472_1.94d</th><td>ARX   </td></tr>\n",
       "\t<tr><th scope=row>ASCL1-M08474_1.94d</th><td>ASCL1 </td></tr>\n",
       "\t<tr><th scope=row>ATF3-M08485_1.94d</th><td>ATF3  </td></tr>\n",
       "\t<tr><th scope=row>ATF3-M08483_1.94d</th><td>ATF3  </td></tr>\n",
       "</tbody>\n",
       "</table>\n"
      ],
      "text/latex": [
       "A data.frame: 6 × 1\n",
       "\\begin{tabular}{r|l}\n",
       "  & gene\\\\\n",
       "  & <chr>\\\\\n",
       "\\hline\n",
       "\tARID5B-M00143\\_1.94d & ARID5B\\\\\n",
       "\tARX-M05566\\_1.94d & ARX   \\\\\n",
       "\tARX-M08472\\_1.94d & ARX   \\\\\n",
       "\tASCL1-M08474\\_1.94d & ASCL1 \\\\\n",
       "\tATF3-M08485\\_1.94d & ATF3  \\\\\n",
       "\tATF3-M08483\\_1.94d & ATF3  \\\\\n",
       "\\end{tabular}\n"
      ],
      "text/markdown": [
       "\n",
       "A data.frame: 6 × 1\n",
       "\n",
       "| <!--/--> | gene &lt;chr&gt; |\n",
       "|---|---|\n",
       "| ARID5B-M00143_1.94d | ARID5B |\n",
       "| ARX-M05566_1.94d | ARX    |\n",
       "| ARX-M08472_1.94d | ARX    |\n",
       "| ASCL1-M08474_1.94d | ASCL1  |\n",
       "| ATF3-M08485_1.94d | ATF3   |\n",
       "| ATF3-M08483_1.94d | ATF3   |\n",
       "\n"
      ],
      "text/plain": [
       "                    gene  \n",
       "ARID5B-M00143_1.94d ARID5B\n",
       "ARX-M05566_1.94d    ARX   \n",
       "ARX-M08472_1.94d    ARX   \n",
       "ASCL1-M08474_1.94d  ASCL1 \n",
       "ATF3-M08485_1.94d   ATF3  \n",
       "ATF3-M08483_1.94d   ATF3  "
      ]
     },
     "metadata": {},
     "output_type": "display_data"
    }
   ],
   "source": [
    "names(mot_res)\n",
    "dim(mot_res$data)\n",
    "length(all_genes)\n",
    "head(mot_res$meta)"
   ]
  },
  {
   "cell_type": "code",
   "execution_count": 5,
   "id": "8671d30c",
   "metadata": {},
   "outputs": [
    {
     "data": {
      "text/html": [
       "<style>\n",
       ".dl-inline {width: auto; margin:0; padding: 0}\n",
       ".dl-inline>dt, .dl-inline>dd {float: none; width: auto; display: inline-block}\n",
       ".dl-inline>dt::after {content: \":\\0020\"; padding-right: .5ex}\n",
       ".dl-inline>dt:not(:first-of-type) {padding-left: .5ex}\n",
       "</style><dl class=dl-inline><dt>PC FGF17</dt><dd>200</dd><dt>PC RSPO3</dt><dd>200</dd><dt>PC TTR</dt><dd>200</dd><dt>PC SFRP2</dt><dd>200</dd><dt>PC TCF7L2</dt><dd>200</dd><dt>PC NKX2-1</dt><dd>355</dd><dt>GE NKX2-1</dt><dd>312</dd></dl>\n"
      ],
      "text/latex": [
       "\\begin{description*}\n",
       "\\item[PC FGF17] 200\n",
       "\\item[PC RSPO3] 200\n",
       "\\item[PC TTR] 200\n",
       "\\item[PC SFRP2] 200\n",
       "\\item[PC TCF7L2] 200\n",
       "\\item[PC NKX2-1] 355\n",
       "\\item[GE NKX2-1] 312\n",
       "\\end{description*}\n"
      ],
      "text/markdown": [
       "PC FGF17\n",
       ":   200PC RSPO3\n",
       ":   200PC TTR\n",
       ":   200PC SFRP2\n",
       ":   200PC TCF7L2\n",
       ":   200PC NKX2-1\n",
       ":   355GE NKX2-1\n",
       ":   312\n",
       "\n"
      ],
      "text/plain": [
       " PC FGF17  PC RSPO3    PC TTR  PC SFRP2 PC TCF7L2 PC NKX2-1 GE NKX2-1 \n",
       "      200       200       200       200       200       355       312 "
      ]
     },
     "metadata": {},
     "output_type": "display_data"
    }
   ],
   "source": [
    "## Markers used for the TF-target analysis\n",
    "mars <- lapply(names(slim_res), function(cls) {\n",
    "    x <- slim_res[[cls]]$gene\n",
    "    if (cls %in% c(\"PC NKX2-1 NKX6-2\", \"PC NKX2-1 LMO1\", \"GE_RG_NKX2-1_DLK1\", \"GE_RG_NKX2-1_OLIG1\")) {\n",
    "        y <- x[1:min(200, length(x))]\n",
    "    } else {\n",
    "        y <- x[1:min(200, length(x))]\n",
    "    }\n",
    "    return(y)\n",
    "    }) %>%\n",
    "    setNames(., names(slim_res))\n",
    "mar_genes <- unlist(mars) %>% unique() %>% \n",
    "                intersect(., rownames(mot_res$data))\n",
    "mars_merge <- mars[c(\"PC FGF17\", \"PC RSPO3\", \"PC TTR\", \"PC SFRP2\", \"PC TCF7L2\")]\n",
    "mars_merge[[\"PC NKX2-1\"]] <- union(mars[[\"PC NKX2-1 NKX6-2\"]], mars[[\"PC NKX2-1 LMO1\"]])\n",
    "mars_merge[[\"GE NKX2-1\"]] <- union(mars[[\"GE_RG_NKX2-1_DLK1\"]], mars[[\"GE_RG_NKX2-1_OLIG1\"]])\n",
    "\n",
    "sapply(mars_merge, length)"
   ]
  },
  {
   "cell_type": "code",
   "execution_count": 6,
   "id": "0aa32c1e",
   "metadata": {},
   "outputs": [
    {
     "data": {
      "text/html": [
       "<style>\n",
       ".list-inline {list-style: none; margin:0; padding: 0}\n",
       ".list-inline>li {display: inline-block}\n",
       ".list-inline>li:not(:last-child)::after {content: \"\\00b7\"; padding: 0 .5ex}\n",
       "</style>\n",
       "<ol class=list-inline><li>'data'</li><li>'meta'</li><li>'score'</li></ol>\n"
      ],
      "text/latex": [
       "\\begin{enumerate*}\n",
       "\\item 'data'\n",
       "\\item 'meta'\n",
       "\\item 'score'\n",
       "\\end{enumerate*}\n"
      ],
      "text/markdown": [
       "1. 'data'\n",
       "2. 'meta'\n",
       "3. 'score'\n",
       "\n",
       "\n"
      ],
      "text/plain": [
       "[1] \"data\"  \"meta\"  \"score\""
      ]
     },
     "metadata": {},
     "output_type": "display_data"
    }
   ],
   "source": [
    "mot_res %>% names()"
   ]
  },
  {
   "cell_type": "code",
   "execution_count": 7,
   "id": "18105267",
   "metadata": {},
   "outputs": [],
   "source": [
    "## Filter regulons based on co-expression (TF-targets)\n",
    "mot_res$data <- mot_res$data[mar_genes, ]\n",
    "mot_res$score <- mot_res$score[mar_genes, ]\n",
    "\n",
    "raw_regu <- GetInitialRegulons(mot_res = mot_res, pval_thre = 0.05, score_thre = 2.5)\n",
    "\n",
    "## actual average expression along the UMAP axis\n",
    "avg_actual <- readRDS(file = paste0(\"./load_files/\", \"Pseudobulk_along_UMAP.rds\"))\n",
    "\n",
    "## Filter regulons based on marker genes & co-expression coefficients\n",
    "regulon_file <- \"./load_files/CellType_Regulon_Filtered_20230215.rds\"\n",
    "if (!file.exists(regulon_file)){\n",
    "    allctp_regu <- lapply(names(mars_merge), function(ctp) {\n",
    "        print(ctp)\n",
    "        ## Remove TFs not expressed in the given subclass & filter targets based on markers\n",
    "        ctp_regu <- raw_regu[names(raw_regu) %in% mars_merge[[ctp]]]\n",
    "        ctp_regu <- lapply(ctp_regu, function(x) x[names(x) %in% mars_merge[[ctp]]])\n",
    "        ctp_regu <- ctp_regu[sapply(ctp_regu, length) > 1]\n",
    "\n",
    "        ## Permuted average expression\n",
    "        avg_perm <- readRDS(file = paste0(\"./load_files/Pseudobulk_permuted_along_UMAP_\", ctp, \".rds\"))\n",
    "\n",
    "        ## distribution(permuted & actual), (sum(permuted > actual) + 1)/(npermutations + 1)\n",
    "        ctp_regu <- FilterRegulon_Correlation(regulon = ctp_regu, avg = avg_actual[[ctp]], perm_avg = avg_perm, \n",
    "                                              cor_p_thre = 1.3, cor_thre = 0.3)\n",
    "        ctp_regu <- ctp_regu[sapply(ctp_regu, length) > 1] ## Remove regulons with length of 1\n",
    "        return(ctp_regu)\n",
    "        }) %>%\n",
    "        setNames(., names(mars_merge))\n",
    "    saveRDS(allctp_regu, file = regulon_file)\n",
    "}\n",
    "\n"
   ]
  },
  {
   "cell_type": "code",
   "execution_count": 8,
   "id": "a0ef8221",
   "metadata": {},
   "outputs": [
    {
     "name": "stderr",
     "output_type": "stream",
     "text": [
      "\u001b[1m\u001b[22m`summarise()` has grouped output by 'from'. You can override using the `.groups` argument.\n"
     ]
    }
   ],
   "source": [
    "## Network visualization preparation\n",
    "allctp_regu <- readRDS(file = regulon_file)\n",
    "\n",
    "\n",
    "## Only show the subset of network with pathway annotations\n",
    "path_genes <- readRDS(\"../overview/load_files/Pathway_updated_20221219.rds\") %>% unlist() %>% unique()\n",
    "tf_kps <- lapply(allctp_regu, function(x) names(x)[sapply(x, function(mm) sum(names(mm) %in% path_genes)) > 0]) %>% \n",
    "                unlist() %>% unique()\n",
    "\n",
    "allctp_regu <- lapply(allctp_regu, function(x) x[intersect(names(x), tf_kps)])\n",
    "\n",
    "\n",
    "## Transform to network object\n",
    "netpre_res <- PrepareNet(regulon = allctp_regu)"
   ]
  },
  {
   "cell_type": "code",
   "execution_count": 9,
   "id": "586b2a51",
   "metadata": {
    "scrolled": true
   },
   "outputs": [
    {
     "data": {
      "text/html": [
       "<style>\n",
       ".list-inline {list-style: none; margin:0; padding: 0}\n",
       ".list-inline>li {display: inline-block}\n",
       ".list-inline>li:not(:last-child)::after {content: \"\\00b7\"; padding: 0 .5ex}\n",
       "</style>\n",
       "<ol class=list-inline><li>'CREB3L4'</li><li>'DMRTA1'</li><li>'ETV4'</li><li>'ETV5'</li><li>'FEZF1'</li><li>'FEZF2'</li><li>'FOS'</li><li>'GLI3'</li><li>'HBP1'</li><li>'MXI1'</li><li>'MYCN'</li><li>'NFIA'</li><li>'NFIB'</li><li>'SIX3'</li><li>'SP8'</li><li>'TGIF1'</li><li>'ZFHX4'</li><li>'ZIC1'</li><li>'ZIC2'</li><li>'ZIC3'</li><li>'ZIC4'</li><li>'ZIC5'</li><li>'ZNF423'</li><li>'ZNF662'</li><li>'ARX'</li><li>'BACH2'</li><li>'BCL11B'</li><li>'DMRTA2'</li><li>'EMX2'</li><li>'HES1'</li><li>'HES4'</li><li>'HEY2'</li><li>'JUNB'</li><li>'LEF1'</li><li>'NFIX'</li><li>'NR2F1'</li><li>'TCF4'</li><li>'FOXJ1'</li><li>'MEF2C'</li><li>'MITF'</li><li>'NR4A2'</li><li>'GSX2'</li><li>'NR2F2'</li><li>'PAX6'</li><li>'POU3F2'</li><li>'SOX3'</li><li>'GLI2'</li><li>'LHX9'</li><li>'RFX4'</li><li>'SHOX2'</li><li>'TCF7L2'</li><li>'ASCL1'</li><li>'DLX1'</li><li>'DLX2'</li><li>'FOXG1'</li><li>'FOXO1'</li><li>'HES5'</li><li>'HEY1'</li><li>'LHX2'</li><li>'MEIS3'</li><li>'NKX2-1'</li><li>'NKX6-2'</li><li>'OLIG1'</li><li>'OLIG2'</li><li>'OTX2'</li><li>'PBX3'</li><li>'PLAGL1'</li><li>'SOX21'</li><li>'SOX6'</li><li>'TCF12'</li><li>'TCF7L1'</li><li>'VAX1'</li><li>'ZEB1'</li><li>'ZEB2'</li><li>'ZNF219'</li><li>'BCL11A'</li><li>'CREB5'</li><li>'DPF1'</li><li>'E2F1'</li><li>'ESRRG'</li><li>'HES6'</li><li>'HMGA1'</li><li>'HMGA2'</li><li>'MEIS2'</li><li>'PBX1'</li><li>'POU2F1'</li><li>'POU3F3'</li><li>'SOX5'</li><li>'SOX8'</li><li>'TFDP2'</li><li>'ZNF704'</li></ol>\n"
      ],
      "text/latex": [
       "\\begin{enumerate*}\n",
       "\\item 'CREB3L4'\n",
       "\\item 'DMRTA1'\n",
       "\\item 'ETV4'\n",
       "\\item 'ETV5'\n",
       "\\item 'FEZF1'\n",
       "\\item 'FEZF2'\n",
       "\\item 'FOS'\n",
       "\\item 'GLI3'\n",
       "\\item 'HBP1'\n",
       "\\item 'MXI1'\n",
       "\\item 'MYCN'\n",
       "\\item 'NFIA'\n",
       "\\item 'NFIB'\n",
       "\\item 'SIX3'\n",
       "\\item 'SP8'\n",
       "\\item 'TGIF1'\n",
       "\\item 'ZFHX4'\n",
       "\\item 'ZIC1'\n",
       "\\item 'ZIC2'\n",
       "\\item 'ZIC3'\n",
       "\\item 'ZIC4'\n",
       "\\item 'ZIC5'\n",
       "\\item 'ZNF423'\n",
       "\\item 'ZNF662'\n",
       "\\item 'ARX'\n",
       "\\item 'BACH2'\n",
       "\\item 'BCL11B'\n",
       "\\item 'DMRTA2'\n",
       "\\item 'EMX2'\n",
       "\\item 'HES1'\n",
       "\\item 'HES4'\n",
       "\\item 'HEY2'\n",
       "\\item 'JUNB'\n",
       "\\item 'LEF1'\n",
       "\\item 'NFIX'\n",
       "\\item 'NR2F1'\n",
       "\\item 'TCF4'\n",
       "\\item 'FOXJ1'\n",
       "\\item 'MEF2C'\n",
       "\\item 'MITF'\n",
       "\\item 'NR4A2'\n",
       "\\item 'GSX2'\n",
       "\\item 'NR2F2'\n",
       "\\item 'PAX6'\n",
       "\\item 'POU3F2'\n",
       "\\item 'SOX3'\n",
       "\\item 'GLI2'\n",
       "\\item 'LHX9'\n",
       "\\item 'RFX4'\n",
       "\\item 'SHOX2'\n",
       "\\item 'TCF7L2'\n",
       "\\item 'ASCL1'\n",
       "\\item 'DLX1'\n",
       "\\item 'DLX2'\n",
       "\\item 'FOXG1'\n",
       "\\item 'FOXO1'\n",
       "\\item 'HES5'\n",
       "\\item 'HEY1'\n",
       "\\item 'LHX2'\n",
       "\\item 'MEIS3'\n",
       "\\item 'NKX2-1'\n",
       "\\item 'NKX6-2'\n",
       "\\item 'OLIG1'\n",
       "\\item 'OLIG2'\n",
       "\\item 'OTX2'\n",
       "\\item 'PBX3'\n",
       "\\item 'PLAGL1'\n",
       "\\item 'SOX21'\n",
       "\\item 'SOX6'\n",
       "\\item 'TCF12'\n",
       "\\item 'TCF7L1'\n",
       "\\item 'VAX1'\n",
       "\\item 'ZEB1'\n",
       "\\item 'ZEB2'\n",
       "\\item 'ZNF219'\n",
       "\\item 'BCL11A'\n",
       "\\item 'CREB5'\n",
       "\\item 'DPF1'\n",
       "\\item 'E2F1'\n",
       "\\item 'ESRRG'\n",
       "\\item 'HES6'\n",
       "\\item 'HMGA1'\n",
       "\\item 'HMGA2'\n",
       "\\item 'MEIS2'\n",
       "\\item 'PBX1'\n",
       "\\item 'POU2F1'\n",
       "\\item 'POU3F3'\n",
       "\\item 'SOX5'\n",
       "\\item 'SOX8'\n",
       "\\item 'TFDP2'\n",
       "\\item 'ZNF704'\n",
       "\\end{enumerate*}\n"
      ],
      "text/markdown": [
       "1. 'CREB3L4'\n",
       "2. 'DMRTA1'\n",
       "3. 'ETV4'\n",
       "4. 'ETV5'\n",
       "5. 'FEZF1'\n",
       "6. 'FEZF2'\n",
       "7. 'FOS'\n",
       "8. 'GLI3'\n",
       "9. 'HBP1'\n",
       "10. 'MXI1'\n",
       "11. 'MYCN'\n",
       "12. 'NFIA'\n",
       "13. 'NFIB'\n",
       "14. 'SIX3'\n",
       "15. 'SP8'\n",
       "16. 'TGIF1'\n",
       "17. 'ZFHX4'\n",
       "18. 'ZIC1'\n",
       "19. 'ZIC2'\n",
       "20. 'ZIC3'\n",
       "21. 'ZIC4'\n",
       "22. 'ZIC5'\n",
       "23. 'ZNF423'\n",
       "24. 'ZNF662'\n",
       "25. 'ARX'\n",
       "26. 'BACH2'\n",
       "27. 'BCL11B'\n",
       "28. 'DMRTA2'\n",
       "29. 'EMX2'\n",
       "30. 'HES1'\n",
       "31. 'HES4'\n",
       "32. 'HEY2'\n",
       "33. 'JUNB'\n",
       "34. 'LEF1'\n",
       "35. 'NFIX'\n",
       "36. 'NR2F1'\n",
       "37. 'TCF4'\n",
       "38. 'FOXJ1'\n",
       "39. 'MEF2C'\n",
       "40. 'MITF'\n",
       "41. 'NR4A2'\n",
       "42. 'GSX2'\n",
       "43. 'NR2F2'\n",
       "44. 'PAX6'\n",
       "45. 'POU3F2'\n",
       "46. 'SOX3'\n",
       "47. 'GLI2'\n",
       "48. 'LHX9'\n",
       "49. 'RFX4'\n",
       "50. 'SHOX2'\n",
       "51. 'TCF7L2'\n",
       "52. 'ASCL1'\n",
       "53. 'DLX1'\n",
       "54. 'DLX2'\n",
       "55. 'FOXG1'\n",
       "56. 'FOXO1'\n",
       "57. 'HES5'\n",
       "58. 'HEY1'\n",
       "59. 'LHX2'\n",
       "60. 'MEIS3'\n",
       "61. 'NKX2-1'\n",
       "62. 'NKX6-2'\n",
       "63. 'OLIG1'\n",
       "64. 'OLIG2'\n",
       "65. 'OTX2'\n",
       "66. 'PBX3'\n",
       "67. 'PLAGL1'\n",
       "68. 'SOX21'\n",
       "69. 'SOX6'\n",
       "70. 'TCF12'\n",
       "71. 'TCF7L1'\n",
       "72. 'VAX1'\n",
       "73. 'ZEB1'\n",
       "74. 'ZEB2'\n",
       "75. 'ZNF219'\n",
       "76. 'BCL11A'\n",
       "77. 'CREB5'\n",
       "78. 'DPF1'\n",
       "79. 'E2F1'\n",
       "80. 'ESRRG'\n",
       "81. 'HES6'\n",
       "82. 'HMGA1'\n",
       "83. 'HMGA2'\n",
       "84. 'MEIS2'\n",
       "85. 'PBX1'\n",
       "86. 'POU2F1'\n",
       "87. 'POU3F3'\n",
       "88. 'SOX5'\n",
       "89. 'SOX8'\n",
       "90. 'TFDP2'\n",
       "91. 'ZNF704'\n",
       "\n",
       "\n"
      ],
      "text/plain": [
       " [1] \"CREB3L4\" \"DMRTA1\"  \"ETV4\"    \"ETV5\"    \"FEZF1\"   \"FEZF2\"   \"FOS\"    \n",
       " [8] \"GLI3\"    \"HBP1\"    \"MXI1\"    \"MYCN\"    \"NFIA\"    \"NFIB\"    \"SIX3\"   \n",
       "[15] \"SP8\"     \"TGIF1\"   \"ZFHX4\"   \"ZIC1\"    \"ZIC2\"    \"ZIC3\"    \"ZIC4\"   \n",
       "[22] \"ZIC5\"    \"ZNF423\"  \"ZNF662\"  \"ARX\"     \"BACH2\"   \"BCL11B\"  \"DMRTA2\" \n",
       "[29] \"EMX2\"    \"HES1\"    \"HES4\"    \"HEY2\"    \"JUNB\"    \"LEF1\"    \"NFIX\"   \n",
       "[36] \"NR2F1\"   \"TCF4\"    \"FOXJ1\"   \"MEF2C\"   \"MITF\"    \"NR4A2\"   \"GSX2\"   \n",
       "[43] \"NR2F2\"   \"PAX6\"    \"POU3F2\"  \"SOX3\"    \"GLI2\"    \"LHX9\"    \"RFX4\"   \n",
       "[50] \"SHOX2\"   \"TCF7L2\"  \"ASCL1\"   \"DLX1\"    \"DLX2\"    \"FOXG1\"   \"FOXO1\"  \n",
       "[57] \"HES5\"    \"HEY1\"    \"LHX2\"    \"MEIS3\"   \"NKX2-1\"  \"NKX6-2\"  \"OLIG1\"  \n",
       "[64] \"OLIG2\"   \"OTX2\"    \"PBX3\"    \"PLAGL1\"  \"SOX21\"   \"SOX6\"    \"TCF12\"  \n",
       "[71] \"TCF7L1\"  \"VAX1\"    \"ZEB1\"    \"ZEB2\"    \"ZNF219\"  \"BCL11A\"  \"CREB5\"  \n",
       "[78] \"DPF1\"    \"E2F1\"    \"ESRRG\"   \"HES6\"    \"HMGA1\"   \"HMGA2\"   \"MEIS2\"  \n",
       "[85] \"PBX1\"    \"POU2F1\"  \"POU3F3\"  \"SOX5\"    \"SOX8\"    \"TFDP2\"   \"ZNF704\" "
      ]
     },
     "metadata": {},
     "output_type": "display_data"
    }
   ],
   "source": [
    "tf_kps"
   ]
  },
  {
   "cell_type": "code",
   "execution_count": 10,
   "id": "447e5135",
   "metadata": {},
   "outputs": [
    {
     "data": {
      "text/html": [
       "<table class=\"dataframe\">\n",
       "<caption>A data.frame: 6 × 2</caption>\n",
       "<thead>\n",
       "\t<tr><th></th><th scope=col>gene</th><th scope=col>gtype</th></tr>\n",
       "\t<tr><th></th><th scope=col>&lt;chr&gt;</th><th scope=col>&lt;chr&gt;</th></tr>\n",
       "</thead>\n",
       "<tbody>\n",
       "\t<tr><th scope=row>BACH2</th><td>BACH2  </td><td>TF</td></tr>\n",
       "\t<tr><th scope=row>CREB3L4</th><td>CREB3L4</td><td>TF</td></tr>\n",
       "\t<tr><th scope=row>DMRTA1</th><td>DMRTA1 </td><td>TF</td></tr>\n",
       "\t<tr><th scope=row>ETV4</th><td>ETV4   </td><td>TF</td></tr>\n",
       "\t<tr><th scope=row>ETV5</th><td>ETV5   </td><td>TF</td></tr>\n",
       "\t<tr><th scope=row>FEZF1</th><td>FEZF1  </td><td>TF</td></tr>\n",
       "</tbody>\n",
       "</table>\n"
      ],
      "text/latex": [
       "A data.frame: 6 × 2\n",
       "\\begin{tabular}{r|ll}\n",
       "  & gene & gtype\\\\\n",
       "  & <chr> & <chr>\\\\\n",
       "\\hline\n",
       "\tBACH2 & BACH2   & TF\\\\\n",
       "\tCREB3L4 & CREB3L4 & TF\\\\\n",
       "\tDMRTA1 & DMRTA1  & TF\\\\\n",
       "\tETV4 & ETV4    & TF\\\\\n",
       "\tETV5 & ETV5    & TF\\\\\n",
       "\tFEZF1 & FEZF1   & TF\\\\\n",
       "\\end{tabular}\n"
      ],
      "text/markdown": [
       "\n",
       "A data.frame: 6 × 2\n",
       "\n",
       "| <!--/--> | gene &lt;chr&gt; | gtype &lt;chr&gt; |\n",
       "|---|---|---|\n",
       "| BACH2 | BACH2   | TF |\n",
       "| CREB3L4 | CREB3L4 | TF |\n",
       "| DMRTA1 | DMRTA1  | TF |\n",
       "| ETV4 | ETV4    | TF |\n",
       "| ETV5 | ETV5    | TF |\n",
       "| FEZF1 | FEZF1   | TF |\n",
       "\n"
      ],
      "text/plain": [
       "        gene    gtype\n",
       "BACH2   BACH2   TF   \n",
       "CREB3L4 CREB3L4 TF   \n",
       "DMRTA1  DMRTA1  TF   \n",
       "ETV4    ETV4    TF   \n",
       "ETV5    ETV5    TF   \n",
       "FEZF1   FEZF1   TF   "
      ]
     },
     "metadata": {},
     "output_type": "display_data"
    }
   ],
   "source": [
    "head(netpre_res$meta)"
   ]
  },
  {
   "cell_type": "code",
   "execution_count": 11,
   "id": "8351d9b4",
   "metadata": {},
   "outputs": [
    {
     "name": "stdout",
     "output_type": "stream",
     "text": [
      " [1]    4   10   18   58   93  275  318  372  375  461  512  524  568  580  754\n",
      "[16]  766  770  811  802  816  827  866  893 1024 1300 1301 1306 1309 1310 1328\n",
      "[31] 1329 1330 1346 1376 1378 1380 1409 1410 1411 1418 1440 1441  124  165  257\n",
      "[46]  313  604  670  735  105  158  258  480  521  590  791 1250\n",
      "character(0)\n"
     ]
    },
    {
     "data": {
      "text/html": [
       "<strong>png:</strong> 2"
      ],
      "text/latex": [
       "\\textbf{png:} 2"
      ],
      "text/markdown": [
       "**png:** 2"
      ],
      "text/plain": [
       "png \n",
       "  2 "
      ]
     },
     "metadata": {},
     "output_type": "display_data"
    }
   ],
   "source": [
    "## Network Visualization \n",
    "source(\"./net.fun.v3.R\")\n",
    "cls_cols <- paste0(c(\"#d40063\", \"#dc59e5\", \"#0c528c\", \"#6ba4f4\", \"#0b9376\", \"#00d49b\", \"#9f37fa\"), \"\") %>% \n",
    "                setNames(., c(\"PC FGF17\", \"PC NKX2-1\", \"PC RSPO3\", \"PC TTR\", \"PC SFRP2\", \"PC TCF7L2\", \"GE NKX2-1\")) \n",
    "            ##\"#0c6e8c\", \n",
    "path_cols <- c(FGF = \"#CE8002\", NOTCH = \"#DBD10B\", SHH = \"#9B7042\", \n",
    "               RA = \"#F90853\", EPH = \"#1616EF\", WNT = \"#28E1FA\", BMP = \"#04AF10\")\n",
    "\n",
    "\n",
    "## Label genes (1. TFs [regulons containing pathway genes] 2. pathway genes)\n",
    "label_1 <- lapply(allctp_regu, function(x) names(x)[sapply(x, function(mm) sum(names(mm) %in% path_genes)) > 0]) %>% \n",
    "                    unlist() %>% unique()\n",
    "label_2 <- intersect(netpre_res$meta$gene, path_genes)\n",
    "label_genes <- union(label_1, label_2)\n",
    "\n",
    "                                                           \n",
    "## Network plots (full, visualized by cell types)\n",
    "edg_test <- read.csv(file = \"./load_files/PAT_TFnetwork_highlighted_links.txt\", \n",
    "                     sep = \"\\t\", stringsAsFactors = FALSE, header = TRUE)\n",
    "#edg_test <- data.frame(from = c(\"ZIC1\", \"ZIC1\", \"NKX2-1\", \"ZNF219\"), to = c(\"FGF8\", \"Biubiu\", \"ZNF219\", \"SHH\"),\n",
    "#                     stringsAsFactors = FALSE)\n",
    "plot_tfnet_signal_final(netpre_object = netpre_res, \n",
    "                    vertice_size = c(0.7, 2.5, 5.5),\n",
    "                    label.scale = c(1.5, 1.5), \n",
    "                    plot.scale = 3, \n",
    "                    vertice_anno_gset = netpre_res$markers, label_genes = path_genes, \n",
    "                    vertice_highlight = path_genes, \n",
    "                    vertice_cate_cols = cls_cols, \n",
    "                    edge_hightlight = edg_test,\n",
    "                    edge_width = c(0.1, 0.4),\n",
    "                    remove_small_vertices = TRUE, remove_TFs = FALSE, \n",
    "                    redo_layout = FALSE, \n",
    "                    file_name = \"PAT_TFnetwork_showSubtypes_full_v4\", output_dir = \"./report/\") "
   ]
  },
  {
   "cell_type": "code",
   "execution_count": 12,
   "id": "510a25a9",
   "metadata": {},
   "outputs": [
    {
     "name": "stdout",
     "output_type": "stream",
     "text": [
      " [1]    4   10   18   58   93  275  318  372  375  461  512  524  568  580  754\n",
      "[16]  766  770  811  802  816  827  866  893 1024 1300 1301 1306 1309 1310 1328\n",
      "[31] 1329 1330 1346 1376 1378 1380 1409 1410 1411 1418 1440 1441  124  165  257\n",
      "[46]  313  604  670  735  105  158  258  480  521  590  791 1250\n",
      "character(0)\n"
     ]
    },
    {
     "data": {
      "text/html": [
       "<strong>png:</strong> 2"
      ],
      "text/latex": [
       "\\textbf{png:} 2"
      ],
      "text/markdown": [
       "**png:** 2"
      ],
      "text/plain": [
       "png \n",
       "  2 "
      ]
     },
     "metadata": {},
     "output_type": "display_data"
    }
   ],
   "source": [
    "## Network plots (full, visualized by pathways)\n",
    "path_vis <- readRDS(\"../overview/load_files/Pathway_updated_20221219.rds\")\n",
    "path_cols <- c(FGF = \"#CE8002\", NOTCH = \"#DBD10B\", SHH = \"#9B7042\", \n",
    "                   RA = \"#F90853\", EPH = \"#1616EF\", WNT = \"#28E1FA\", BMP = \"#04AF10\")\n",
    "plot_tfnet_signal_final(netpre_object = netpre_res, \n",
    "                    vertice_size = c(0.7, 2.5, 5.5),\n",
    "                    label.scale = c(1.5, 1.5), \n",
    "                    plot.scale = 3, \n",
    "                    vertice_anno_gset = path_vis, label_genes = path_genes, \n",
    "                    vertice_highlight = path_genes, \n",
    "                    vertice_cate_cols = path_cols, \n",
    "                    edge_hightlight = edg_test,\n",
    "                    edge_width = c(0.1, 0.4),\n",
    "                    remove_small_vertices = TRUE, remove_TFs = FALSE, \n",
    "                    redo_layout = FALSE, \n",
    "                    file_name = \"PAT_TFnetwork_showPathway_full_v4\", output_dir = \"./report/\") "
   ]
  },
  {
   "cell_type": "code",
   "execution_count": 13,
   "id": "757f180b",
   "metadata": {},
   "outputs": [
    {
     "name": "stderr",
     "output_type": "stream",
     "text": [
      "\u001b[1m\u001b[22m`summarise()` has grouped output by 'from'. You can override using the `.groups` argument.\n"
     ]
    },
    {
     "data": {
      "text/html": [
       "<style>\n",
       ".list-inline {list-style: none; margin:0; padding: 0}\n",
       ".list-inline>li {display: inline-block}\n",
       ".list-inline>li:not(:last-child)::after {content: \"\\00b7\"; padding: 0 .5ex}\n",
       "</style>\n",
       "<ol class=list-inline><li>753</li><li>2</li></ol>\n"
      ],
      "text/latex": [
       "\\begin{enumerate*}\n",
       "\\item 753\n",
       "\\item 2\n",
       "\\end{enumerate*}\n"
      ],
      "text/markdown": [
       "1. 753\n",
       "2. 2\n",
       "\n",
       "\n"
      ],
      "text/plain": [
       "[1] 753   2"
      ]
     },
     "metadata": {},
     "output_type": "display_data"
    },
    {
     "data": {
      "text/html": [
       "<style>\n",
       ".list-inline {list-style: none; margin:0; padding: 0}\n",
       ".list-inline>li {display: inline-block}\n",
       ".list-inline>li:not(:last-child)::after {content: \"\\00b7\"; padding: 0 .5ex}\n",
       "</style>\n",
       "<ol class=list-inline><li>1603</li><li>3</li></ol>\n"
      ],
      "text/latex": [
       "\\begin{enumerate*}\n",
       "\\item 1603\n",
       "\\item 3\n",
       "\\end{enumerate*}\n"
      ],
      "text/markdown": [
       "1. 1603\n",
       "2. 3\n",
       "\n",
       "\n"
      ],
      "text/plain": [
       "[1] 1603    3"
      ]
     },
     "metadata": {},
     "output_type": "display_data"
    },
    {
     "data": {
      "text/html": [
       "<table class=\"dataframe\">\n",
       "<caption>A tibble: 17 × 32</caption>\n",
       "<thead>\n",
       "\t<tr><th scope=col>from</th><th scope=col>to</th><th scope=col>from_is_TF</th><th scope=col>to_is_TF</th><th scope=col>from_in_subtype_PC FGF17</th><th scope=col>from_in_subtype_PC RSPO3</th><th scope=col>from_in_subtype_PC TTR</th><th scope=col>from_in_subtype_PC SFRP2</th><th scope=col>from_in_subtype_PC TCF7L2</th><th scope=col>from_in_subtype_PC NKX2-1</th><th scope=col>⋯</th><th scope=col>from_in_pathway_WNT</th><th scope=col>from_in_pathway_RA</th><th scope=col>from_in_pathway_SHH</th><th scope=col>to_in_pathway_BMP</th><th scope=col>to_in_pathway_EPH</th><th scope=col>to_in_pathway_FGF</th><th scope=col>to_in_pathway_NOTCH</th><th scope=col>to_in_pathway_WNT</th><th scope=col>to_in_pathway_RA</th><th scope=col>to_in_pathway_SHH</th></tr>\n",
       "\t<tr><th scope=col>&lt;chr&gt;</th><th scope=col>&lt;chr&gt;</th><th scope=col>&lt;dbl&gt;</th><th scope=col>&lt;dbl&gt;</th><th scope=col>&lt;dbl&gt;</th><th scope=col>&lt;dbl&gt;</th><th scope=col>&lt;dbl&gt;</th><th scope=col>&lt;dbl&gt;</th><th scope=col>&lt;dbl&gt;</th><th scope=col>&lt;dbl&gt;</th><th scope=col>⋯</th><th scope=col>&lt;dbl&gt;</th><th scope=col>&lt;dbl&gt;</th><th scope=col>&lt;dbl&gt;</th><th scope=col>&lt;dbl&gt;</th><th scope=col>&lt;dbl&gt;</th><th scope=col>&lt;dbl&gt;</th><th scope=col>&lt;dbl&gt;</th><th scope=col>&lt;dbl&gt;</th><th scope=col>&lt;dbl&gt;</th><th scope=col>&lt;dbl&gt;</th></tr>\n",
       "</thead>\n",
       "<tbody>\n",
       "\t<tr><td>NKX2-1</td><td>C1H1orf61   </td><td>1</td><td>0</td><td>0</td><td>0</td><td>0</td><td>0</td><td>0</td><td>1</td><td>⋯</td><td>0</td><td>0</td><td>0</td><td>0</td><td>0</td><td>0</td><td>0</td><td>0</td><td>0</td><td>0</td></tr>\n",
       "\t<tr><td>NKX2-1</td><td>C6H5orf30   </td><td>1</td><td>0</td><td>0</td><td>0</td><td>0</td><td>0</td><td>0</td><td>1</td><td>⋯</td><td>0</td><td>0</td><td>0</td><td>0</td><td>0</td><td>0</td><td>0</td><td>0</td><td>0</td><td>0</td></tr>\n",
       "\t<tr><td>NKX2-1</td><td>DNAL4       </td><td>1</td><td>0</td><td>0</td><td>0</td><td>0</td><td>0</td><td>0</td><td>1</td><td>⋯</td><td>0</td><td>0</td><td>0</td><td>0</td><td>0</td><td>0</td><td>0</td><td>0</td><td>0</td><td>0</td></tr>\n",
       "\t<tr><td>NKX2-1</td><td>FRZB        </td><td>1</td><td>0</td><td>0</td><td>0</td><td>0</td><td>0</td><td>0</td><td>1</td><td>⋯</td><td>0</td><td>0</td><td>0</td><td>0</td><td>0</td><td>0</td><td>0</td><td>1</td><td>0</td><td>0</td></tr>\n",
       "\t<tr><td>NKX2-1</td><td>GPM6A       </td><td>1</td><td>0</td><td>0</td><td>0</td><td>0</td><td>0</td><td>0</td><td>1</td><td>⋯</td><td>0</td><td>0</td><td>0</td><td>0</td><td>0</td><td>0</td><td>0</td><td>0</td><td>0</td><td>0</td></tr>\n",
       "\t<tr><td>NKX2-1</td><td>LOC106993508</td><td>1</td><td>0</td><td>0</td><td>0</td><td>0</td><td>0</td><td>0</td><td>1</td><td>⋯</td><td>0</td><td>0</td><td>0</td><td>0</td><td>0</td><td>0</td><td>0</td><td>0</td><td>0</td><td>0</td></tr>\n",
       "\t<tr><td>NKX2-1</td><td>LOC106999377</td><td>1</td><td>0</td><td>0</td><td>0</td><td>0</td><td>0</td><td>0</td><td>1</td><td>⋯</td><td>0</td><td>0</td><td>0</td><td>0</td><td>0</td><td>0</td><td>0</td><td>0</td><td>0</td><td>0</td></tr>\n",
       "\t<tr><td>NKX2-1</td><td>LOC106999572</td><td>1</td><td>0</td><td>0</td><td>0</td><td>0</td><td>0</td><td>0</td><td>1</td><td>⋯</td><td>0</td><td>0</td><td>0</td><td>0</td><td>0</td><td>0</td><td>0</td><td>0</td><td>0</td><td>0</td></tr>\n",
       "\t<tr><td>NKX2-1</td><td>LSAMP       </td><td>1</td><td>0</td><td>0</td><td>0</td><td>0</td><td>0</td><td>0</td><td>1</td><td>⋯</td><td>0</td><td>0</td><td>0</td><td>0</td><td>0</td><td>0</td><td>0</td><td>0</td><td>0</td><td>0</td></tr>\n",
       "\t<tr><td>NKX2-1</td><td>MBIP        </td><td>1</td><td>0</td><td>0</td><td>0</td><td>0</td><td>0</td><td>0</td><td>1</td><td>⋯</td><td>0</td><td>0</td><td>0</td><td>0</td><td>0</td><td>0</td><td>0</td><td>0</td><td>0</td><td>0</td></tr>\n",
       "\t<tr><td>NKX2-1</td><td>PCDH17      </td><td>1</td><td>0</td><td>0</td><td>0</td><td>0</td><td>0</td><td>0</td><td>1</td><td>⋯</td><td>0</td><td>0</td><td>0</td><td>0</td><td>0</td><td>0</td><td>0</td><td>0</td><td>0</td><td>0</td></tr>\n",
       "\t<tr><td>NKX2-1</td><td>PLP1        </td><td>1</td><td>0</td><td>0</td><td>0</td><td>0</td><td>0</td><td>0</td><td>1</td><td>⋯</td><td>0</td><td>0</td><td>0</td><td>0</td><td>0</td><td>0</td><td>0</td><td>0</td><td>0</td><td>0</td></tr>\n",
       "\t<tr><td>NKX2-1</td><td>PTP4A1      </td><td>1</td><td>0</td><td>0</td><td>0</td><td>0</td><td>0</td><td>0</td><td>1</td><td>⋯</td><td>0</td><td>0</td><td>0</td><td>0</td><td>0</td><td>0</td><td>0</td><td>0</td><td>0</td><td>0</td></tr>\n",
       "\t<tr><td>NKX2-1</td><td>SCHIP1      </td><td>1</td><td>0</td><td>0</td><td>0</td><td>0</td><td>0</td><td>0</td><td>1</td><td>⋯</td><td>0</td><td>0</td><td>0</td><td>0</td><td>0</td><td>0</td><td>0</td><td>0</td><td>0</td><td>0</td></tr>\n",
       "\t<tr><td>NKX2-1</td><td>SEC11C      </td><td>1</td><td>0</td><td>0</td><td>0</td><td>0</td><td>0</td><td>0</td><td>1</td><td>⋯</td><td>0</td><td>0</td><td>0</td><td>0</td><td>0</td><td>0</td><td>0</td><td>0</td><td>0</td><td>0</td></tr>\n",
       "\t<tr><td>NKX2-1</td><td>ZEB2        </td><td>1</td><td>1</td><td>0</td><td>0</td><td>0</td><td>0</td><td>0</td><td>1</td><td>⋯</td><td>0</td><td>0</td><td>0</td><td>0</td><td>0</td><td>0</td><td>0</td><td>0</td><td>0</td><td>0</td></tr>\n",
       "\t<tr><td>NKX2-1</td><td>ZNF219      </td><td>1</td><td>1</td><td>0</td><td>0</td><td>0</td><td>0</td><td>0</td><td>1</td><td>⋯</td><td>0</td><td>0</td><td>0</td><td>0</td><td>0</td><td>0</td><td>0</td><td>0</td><td>0</td><td>0</td></tr>\n",
       "</tbody>\n",
       "</table>\n"
      ],
      "text/latex": [
       "A tibble: 17 × 32\n",
       "\\begin{tabular}{lllllllllllllllllllll}\n",
       " from & to & from\\_is\\_TF & to\\_is\\_TF & from\\_in\\_subtype\\_PC FGF17 & from\\_in\\_subtype\\_PC RSPO3 & from\\_in\\_subtype\\_PC TTR & from\\_in\\_subtype\\_PC SFRP2 & from\\_in\\_subtype\\_PC TCF7L2 & from\\_in\\_subtype\\_PC NKX2-1 & ⋯ & from\\_in\\_pathway\\_WNT & from\\_in\\_pathway\\_RA & from\\_in\\_pathway\\_SHH & to\\_in\\_pathway\\_BMP & to\\_in\\_pathway\\_EPH & to\\_in\\_pathway\\_FGF & to\\_in\\_pathway\\_NOTCH & to\\_in\\_pathway\\_WNT & to\\_in\\_pathway\\_RA & to\\_in\\_pathway\\_SHH\\\\\n",
       " <chr> & <chr> & <dbl> & <dbl> & <dbl> & <dbl> & <dbl> & <dbl> & <dbl> & <dbl> & ⋯ & <dbl> & <dbl> & <dbl> & <dbl> & <dbl> & <dbl> & <dbl> & <dbl> & <dbl> & <dbl>\\\\\n",
       "\\hline\n",
       "\t NKX2-1 & C1H1orf61    & 1 & 0 & 0 & 0 & 0 & 0 & 0 & 1 & ⋯ & 0 & 0 & 0 & 0 & 0 & 0 & 0 & 0 & 0 & 0\\\\\n",
       "\t NKX2-1 & C6H5orf30    & 1 & 0 & 0 & 0 & 0 & 0 & 0 & 1 & ⋯ & 0 & 0 & 0 & 0 & 0 & 0 & 0 & 0 & 0 & 0\\\\\n",
       "\t NKX2-1 & DNAL4        & 1 & 0 & 0 & 0 & 0 & 0 & 0 & 1 & ⋯ & 0 & 0 & 0 & 0 & 0 & 0 & 0 & 0 & 0 & 0\\\\\n",
       "\t NKX2-1 & FRZB         & 1 & 0 & 0 & 0 & 0 & 0 & 0 & 1 & ⋯ & 0 & 0 & 0 & 0 & 0 & 0 & 0 & 1 & 0 & 0\\\\\n",
       "\t NKX2-1 & GPM6A        & 1 & 0 & 0 & 0 & 0 & 0 & 0 & 1 & ⋯ & 0 & 0 & 0 & 0 & 0 & 0 & 0 & 0 & 0 & 0\\\\\n",
       "\t NKX2-1 & LOC106993508 & 1 & 0 & 0 & 0 & 0 & 0 & 0 & 1 & ⋯ & 0 & 0 & 0 & 0 & 0 & 0 & 0 & 0 & 0 & 0\\\\\n",
       "\t NKX2-1 & LOC106999377 & 1 & 0 & 0 & 0 & 0 & 0 & 0 & 1 & ⋯ & 0 & 0 & 0 & 0 & 0 & 0 & 0 & 0 & 0 & 0\\\\\n",
       "\t NKX2-1 & LOC106999572 & 1 & 0 & 0 & 0 & 0 & 0 & 0 & 1 & ⋯ & 0 & 0 & 0 & 0 & 0 & 0 & 0 & 0 & 0 & 0\\\\\n",
       "\t NKX2-1 & LSAMP        & 1 & 0 & 0 & 0 & 0 & 0 & 0 & 1 & ⋯ & 0 & 0 & 0 & 0 & 0 & 0 & 0 & 0 & 0 & 0\\\\\n",
       "\t NKX2-1 & MBIP         & 1 & 0 & 0 & 0 & 0 & 0 & 0 & 1 & ⋯ & 0 & 0 & 0 & 0 & 0 & 0 & 0 & 0 & 0 & 0\\\\\n",
       "\t NKX2-1 & PCDH17       & 1 & 0 & 0 & 0 & 0 & 0 & 0 & 1 & ⋯ & 0 & 0 & 0 & 0 & 0 & 0 & 0 & 0 & 0 & 0\\\\\n",
       "\t NKX2-1 & PLP1         & 1 & 0 & 0 & 0 & 0 & 0 & 0 & 1 & ⋯ & 0 & 0 & 0 & 0 & 0 & 0 & 0 & 0 & 0 & 0\\\\\n",
       "\t NKX2-1 & PTP4A1       & 1 & 0 & 0 & 0 & 0 & 0 & 0 & 1 & ⋯ & 0 & 0 & 0 & 0 & 0 & 0 & 0 & 0 & 0 & 0\\\\\n",
       "\t NKX2-1 & SCHIP1       & 1 & 0 & 0 & 0 & 0 & 0 & 0 & 1 & ⋯ & 0 & 0 & 0 & 0 & 0 & 0 & 0 & 0 & 0 & 0\\\\\n",
       "\t NKX2-1 & SEC11C       & 1 & 0 & 0 & 0 & 0 & 0 & 0 & 1 & ⋯ & 0 & 0 & 0 & 0 & 0 & 0 & 0 & 0 & 0 & 0\\\\\n",
       "\t NKX2-1 & ZEB2         & 1 & 1 & 0 & 0 & 0 & 0 & 0 & 1 & ⋯ & 0 & 0 & 0 & 0 & 0 & 0 & 0 & 0 & 0 & 0\\\\\n",
       "\t NKX2-1 & ZNF219       & 1 & 1 & 0 & 0 & 0 & 0 & 0 & 1 & ⋯ & 0 & 0 & 0 & 0 & 0 & 0 & 0 & 0 & 0 & 0\\\\\n",
       "\\end{tabular}\n"
      ],
      "text/markdown": [
       "\n",
       "A tibble: 17 × 32\n",
       "\n",
       "| from &lt;chr&gt; | to &lt;chr&gt; | from_is_TF &lt;dbl&gt; | to_is_TF &lt;dbl&gt; | from_in_subtype_PC FGF17 &lt;dbl&gt; | from_in_subtype_PC RSPO3 &lt;dbl&gt; | from_in_subtype_PC TTR &lt;dbl&gt; | from_in_subtype_PC SFRP2 &lt;dbl&gt; | from_in_subtype_PC TCF7L2 &lt;dbl&gt; | from_in_subtype_PC NKX2-1 &lt;dbl&gt; | ⋯ ⋯ | from_in_pathway_WNT &lt;dbl&gt; | from_in_pathway_RA &lt;dbl&gt; | from_in_pathway_SHH &lt;dbl&gt; | to_in_pathway_BMP &lt;dbl&gt; | to_in_pathway_EPH &lt;dbl&gt; | to_in_pathway_FGF &lt;dbl&gt; | to_in_pathway_NOTCH &lt;dbl&gt; | to_in_pathway_WNT &lt;dbl&gt; | to_in_pathway_RA &lt;dbl&gt; | to_in_pathway_SHH &lt;dbl&gt; |\n",
       "|---|---|---|---|---|---|---|---|---|---|---|---|---|---|---|---|---|---|---|---|---|\n",
       "| NKX2-1 | C1H1orf61    | 1 | 0 | 0 | 0 | 0 | 0 | 0 | 1 | ⋯ | 0 | 0 | 0 | 0 | 0 | 0 | 0 | 0 | 0 | 0 |\n",
       "| NKX2-1 | C6H5orf30    | 1 | 0 | 0 | 0 | 0 | 0 | 0 | 1 | ⋯ | 0 | 0 | 0 | 0 | 0 | 0 | 0 | 0 | 0 | 0 |\n",
       "| NKX2-1 | DNAL4        | 1 | 0 | 0 | 0 | 0 | 0 | 0 | 1 | ⋯ | 0 | 0 | 0 | 0 | 0 | 0 | 0 | 0 | 0 | 0 |\n",
       "| NKX2-1 | FRZB         | 1 | 0 | 0 | 0 | 0 | 0 | 0 | 1 | ⋯ | 0 | 0 | 0 | 0 | 0 | 0 | 0 | 1 | 0 | 0 |\n",
       "| NKX2-1 | GPM6A        | 1 | 0 | 0 | 0 | 0 | 0 | 0 | 1 | ⋯ | 0 | 0 | 0 | 0 | 0 | 0 | 0 | 0 | 0 | 0 |\n",
       "| NKX2-1 | LOC106993508 | 1 | 0 | 0 | 0 | 0 | 0 | 0 | 1 | ⋯ | 0 | 0 | 0 | 0 | 0 | 0 | 0 | 0 | 0 | 0 |\n",
       "| NKX2-1 | LOC106999377 | 1 | 0 | 0 | 0 | 0 | 0 | 0 | 1 | ⋯ | 0 | 0 | 0 | 0 | 0 | 0 | 0 | 0 | 0 | 0 |\n",
       "| NKX2-1 | LOC106999572 | 1 | 0 | 0 | 0 | 0 | 0 | 0 | 1 | ⋯ | 0 | 0 | 0 | 0 | 0 | 0 | 0 | 0 | 0 | 0 |\n",
       "| NKX2-1 | LSAMP        | 1 | 0 | 0 | 0 | 0 | 0 | 0 | 1 | ⋯ | 0 | 0 | 0 | 0 | 0 | 0 | 0 | 0 | 0 | 0 |\n",
       "| NKX2-1 | MBIP         | 1 | 0 | 0 | 0 | 0 | 0 | 0 | 1 | ⋯ | 0 | 0 | 0 | 0 | 0 | 0 | 0 | 0 | 0 | 0 |\n",
       "| NKX2-1 | PCDH17       | 1 | 0 | 0 | 0 | 0 | 0 | 0 | 1 | ⋯ | 0 | 0 | 0 | 0 | 0 | 0 | 0 | 0 | 0 | 0 |\n",
       "| NKX2-1 | PLP1         | 1 | 0 | 0 | 0 | 0 | 0 | 0 | 1 | ⋯ | 0 | 0 | 0 | 0 | 0 | 0 | 0 | 0 | 0 | 0 |\n",
       "| NKX2-1 | PTP4A1       | 1 | 0 | 0 | 0 | 0 | 0 | 0 | 1 | ⋯ | 0 | 0 | 0 | 0 | 0 | 0 | 0 | 0 | 0 | 0 |\n",
       "| NKX2-1 | SCHIP1       | 1 | 0 | 0 | 0 | 0 | 0 | 0 | 1 | ⋯ | 0 | 0 | 0 | 0 | 0 | 0 | 0 | 0 | 0 | 0 |\n",
       "| NKX2-1 | SEC11C       | 1 | 0 | 0 | 0 | 0 | 0 | 0 | 1 | ⋯ | 0 | 0 | 0 | 0 | 0 | 0 | 0 | 0 | 0 | 0 |\n",
       "| NKX2-1 | ZEB2         | 1 | 1 | 0 | 0 | 0 | 0 | 0 | 1 | ⋯ | 0 | 0 | 0 | 0 | 0 | 0 | 0 | 0 | 0 | 0 |\n",
       "| NKX2-1 | ZNF219       | 1 | 1 | 0 | 0 | 0 | 0 | 0 | 1 | ⋯ | 0 | 0 | 0 | 0 | 0 | 0 | 0 | 0 | 0 | 0 |\n",
       "\n"
      ],
      "text/plain": [
       "   from   to           from_is_TF to_is_TF from_in_subtype_PC FGF17\n",
       "1  NKX2-1 C1H1orf61    1          0        0                       \n",
       "2  NKX2-1 C6H5orf30    1          0        0                       \n",
       "3  NKX2-1 DNAL4        1          0        0                       \n",
       "4  NKX2-1 FRZB         1          0        0                       \n",
       "5  NKX2-1 GPM6A        1          0        0                       \n",
       "6  NKX2-1 LOC106993508 1          0        0                       \n",
       "7  NKX2-1 LOC106999377 1          0        0                       \n",
       "8  NKX2-1 LOC106999572 1          0        0                       \n",
       "9  NKX2-1 LSAMP        1          0        0                       \n",
       "10 NKX2-1 MBIP         1          0        0                       \n",
       "11 NKX2-1 PCDH17       1          0        0                       \n",
       "12 NKX2-1 PLP1         1          0        0                       \n",
       "13 NKX2-1 PTP4A1       1          0        0                       \n",
       "14 NKX2-1 SCHIP1       1          0        0                       \n",
       "15 NKX2-1 SEC11C       1          0        0                       \n",
       "16 NKX2-1 ZEB2         1          1        0                       \n",
       "17 NKX2-1 ZNF219       1          1        0                       \n",
       "   from_in_subtype_PC RSPO3 from_in_subtype_PC TTR from_in_subtype_PC SFRP2\n",
       "1  0                        0                      0                       \n",
       "2  0                        0                      0                       \n",
       "3  0                        0                      0                       \n",
       "4  0                        0                      0                       \n",
       "5  0                        0                      0                       \n",
       "6  0                        0                      0                       \n",
       "7  0                        0                      0                       \n",
       "8  0                        0                      0                       \n",
       "9  0                        0                      0                       \n",
       "10 0                        0                      0                       \n",
       "11 0                        0                      0                       \n",
       "12 0                        0                      0                       \n",
       "13 0                        0                      0                       \n",
       "14 0                        0                      0                       \n",
       "15 0                        0                      0                       \n",
       "16 0                        0                      0                       \n",
       "17 0                        0                      0                       \n",
       "   from_in_subtype_PC TCF7L2 from_in_subtype_PC NKX2-1 ⋯ from_in_pathway_WNT\n",
       "1  0                         1                         ⋯ 0                  \n",
       "2  0                         1                         ⋯ 0                  \n",
       "3  0                         1                         ⋯ 0                  \n",
       "4  0                         1                         ⋯ 0                  \n",
       "5  0                         1                         ⋯ 0                  \n",
       "6  0                         1                         ⋯ 0                  \n",
       "7  0                         1                         ⋯ 0                  \n",
       "8  0                         1                         ⋯ 0                  \n",
       "9  0                         1                         ⋯ 0                  \n",
       "10 0                         1                         ⋯ 0                  \n",
       "11 0                         1                         ⋯ 0                  \n",
       "12 0                         1                         ⋯ 0                  \n",
       "13 0                         1                         ⋯ 0                  \n",
       "14 0                         1                         ⋯ 0                  \n",
       "15 0                         1                         ⋯ 0                  \n",
       "16 0                         1                         ⋯ 0                  \n",
       "17 0                         1                         ⋯ 0                  \n",
       "   from_in_pathway_RA from_in_pathway_SHH to_in_pathway_BMP to_in_pathway_EPH\n",
       "1  0                  0                   0                 0                \n",
       "2  0                  0                   0                 0                \n",
       "3  0                  0                   0                 0                \n",
       "4  0                  0                   0                 0                \n",
       "5  0                  0                   0                 0                \n",
       "6  0                  0                   0                 0                \n",
       "7  0                  0                   0                 0                \n",
       "8  0                  0                   0                 0                \n",
       "9  0                  0                   0                 0                \n",
       "10 0                  0                   0                 0                \n",
       "11 0                  0                   0                 0                \n",
       "12 0                  0                   0                 0                \n",
       "13 0                  0                   0                 0                \n",
       "14 0                  0                   0                 0                \n",
       "15 0                  0                   0                 0                \n",
       "16 0                  0                   0                 0                \n",
       "17 0                  0                   0                 0                \n",
       "   to_in_pathway_FGF to_in_pathway_NOTCH to_in_pathway_WNT to_in_pathway_RA\n",
       "1  0                 0                   0                 0               \n",
       "2  0                 0                   0                 0               \n",
       "3  0                 0                   0                 0               \n",
       "4  0                 0                   1                 0               \n",
       "5  0                 0                   0                 0               \n",
       "6  0                 0                   0                 0               \n",
       "7  0                 0                   0                 0               \n",
       "8  0                 0                   0                 0               \n",
       "9  0                 0                   0                 0               \n",
       "10 0                 0                   0                 0               \n",
       "11 0                 0                   0                 0               \n",
       "12 0                 0                   0                 0               \n",
       "13 0                 0                   0                 0               \n",
       "14 0                 0                   0                 0               \n",
       "15 0                 0                   0                 0               \n",
       "16 0                 0                   0                 0               \n",
       "17 0                 0                   0                 0               \n",
       "   to_in_pathway_SHH\n",
       "1  0                \n",
       "2  0                \n",
       "3  0                \n",
       "4  0                \n",
       "5  0                \n",
       "6  0                \n",
       "7  0                \n",
       "8  0                \n",
       "9  0                \n",
       "10 0                \n",
       "11 0                \n",
       "12 0                \n",
       "13 0                \n",
       "14 0                \n",
       "15 0                \n",
       "16 0                \n",
       "17 0                "
      ]
     },
     "metadata": {},
     "output_type": "display_data"
    }
   ],
   "source": [
    "## Output a table summarizing all TF-targets\n",
    "gset <- readRDS(\"../overview/load_files/Pathway_updated_20221219.rds\")\n",
    "netout_res <- readRDS(file = regulon_file) %>%\n",
    "                PrepareNet(regulon = .)\n",
    "\n",
    "dim(netout_res$meta)\n",
    "dim(netout_res$links)\n",
    "\n",
    "## Only out put the links\n",
    "lk <- netout_res$links[, c(\"from\", \"to\")]\n",
    "tf_gene <- netout_res$meta$gene[netout_res$meta$gtype %in% \"TF\"]\n",
    "\n",
    "## Annotate TF\n",
    "lk$from_is_TF <- ifelse(lk$from %in% tf_gene, 1, 0)\n",
    "lk$to_is_TF <- ifelse(lk$to %in% tf_gene, 1, 0)\n",
    "\n",
    "## Annotate cell types\n",
    "for (ii in names(netout_res$markers)){\n",
    "    lk[, paste0(\"from_in_subtype_\", ii)] <- ifelse(lk$from %in% netout_res$markers[[ii]], 1, 0)\n",
    "}\n",
    "for (ii in names(netout_res$markers)){\n",
    "    lk[, paste0(\"to_in_subtype_\", ii)] <- ifelse(lk$to %in% netout_res$markers[[ii]], 1, 0)\n",
    "}\n",
    "\n",
    "\n",
    "## Annotate pathways\n",
    "for (ii in names(gset)){\n",
    "    lk[, paste0(\"from_in_pathway_\", ii)] <- ifelse(lk$from %in% gset[[ii]], 1, 0)\n",
    "}\n",
    "for (ii in names(gset)){\n",
    "    lk[, paste0(\"to_in_pathway_\", ii)] <- ifelse(lk$to %in% gset[[ii]], 1, 0)\n",
    "}\n",
    "\n",
    "## Check an example\n",
    "lk %>% filter(from == \"NKX2-1\")\n",
    "write.table(lk, file = \"./load_files/PAT_TFnetwork_full_table_v4.txt\", \n",
    "            sep = \"\\t\", row.names = FALSE, col.names = TRUE, quote = FALSE)"
   ]
  },
  {
   "cell_type": "code",
   "execution_count": 14,
   "id": "64a7a0d2",
   "metadata": {
    "scrolled": false
   },
   "outputs": [
    {
     "data": {
      "text/plain": [
       "R version 4.2.2 (2022-10-31)\n",
       "Platform: x86_64-conda-linux-gnu (64-bit)\n",
       "Running under: Red Hat Enterprise Linux Server 7.9 (Maipo)\n",
       "\n",
       "Matrix products: default\n",
       "BLAS/LAPACK: /gpfs/gibbs/pi/sestan.ycga/sm2726/conda_envs/scmultiome/lib/libopenblasp-r0.3.21.so\n",
       "\n",
       "locale:\n",
       " [1] LC_CTYPE=en_US.UTF-8       LC_NUMERIC=C              \n",
       " [3] LC_TIME=en_US.UTF-8        LC_COLLATE=en_US.UTF-8    \n",
       " [5] LC_MONETARY=en_US.UTF-8    LC_MESSAGES=en_US.UTF-8   \n",
       " [7] LC_PAPER=en_US.UTF-8       LC_NAME=C                 \n",
       " [9] LC_ADDRESS=C               LC_TELEPHONE=C            \n",
       "[11] LC_MEASUREMENT=en_US.UTF-8 LC_IDENTIFICATION=C       \n",
       "\n",
       "attached base packages:\n",
       "[1] parallel  stats     graphics  grDevices utils     datasets  methods  \n",
       "[8] base     \n",
       "\n",
       "other attached packages:\n",
       " [1] qgraph_1.9.3       scatterpie_0.1.8   ggforce_0.4.1      igraph_1.4.0      \n",
       " [5] AUCell_1.20.2      SeuratObject_4.1.3 Seurat_4.3.0       viridis_0.6.2     \n",
       " [9] viridisLite_0.4.1  ggpubr_0.6.0       cowplot_1.1.1      ggrepel_0.9.3     \n",
       "[13] ggplot2_3.4.1      tidyr_1.3.0        Matrix_1.5-3       dplyr_1.1.0       \n",
       "[17] tibble_3.1.8      \n",
       "\n",
       "loaded via a namespace (and not attached):\n",
       "  [1] utf8_1.2.3                  spatstat.explore_3.0-6     \n",
       "  [3] reticulate_1.28             R.utils_2.12.2             \n",
       "  [5] tidyselect_1.2.0            RSQLite_2.2.20             \n",
       "  [7] AnnotationDbi_1.60.0        htmlwidgets_1.6.1          \n",
       "  [9] grid_4.2.2                  Rtsne_0.16                 \n",
       " [11] munsell_0.5.0               codetools_0.2-19           \n",
       " [13] ica_1.0-3                   interp_1.1-3               \n",
       " [15] pbdZMQ_0.3-9                future_1.31.0              \n",
       " [17] miniUI_0.1.1.1              withr_2.5.0                \n",
       " [19] spatstat.random_3.1-3       colorspace_2.1-0           \n",
       " [21] progressr_0.13.0            Biobase_2.58.0             \n",
       " [23] knitr_1.42                  uuid_1.1-0                 \n",
       " [25] rstudioapi_0.14             stats4_4.2.2               \n",
       " [27] ROCR_1.0-11                 ggsignif_0.6.4             \n",
       " [29] tensor_1.5                  listenv_0.9.0              \n",
       " [31] MatrixGenerics_1.10.0       repr_1.1.6                 \n",
       " [33] GenomeInfoDbData_1.2.9      mnormt_2.1.1               \n",
       " [35] polyclip_1.10-4             bit64_4.0.5                \n",
       " [37] farver_2.1.1                parallelly_1.34.0          \n",
       " [39] vctrs_0.5.2                 generics_0.1.3             \n",
       " [41] xfun_0.37                   R6_2.5.1                   \n",
       " [43] GenomeInfoDb_1.34.9         bitops_1.0-7               \n",
       " [45] spatstat.utils_3.0-1        cachem_1.0.6               \n",
       " [47] DelayedArray_0.24.0         promises_1.2.0.1           \n",
       " [49] scales_1.2.1                nnet_7.3-18                \n",
       " [51] gtable_0.3.1                globals_0.16.2             \n",
       " [53] goftest_1.2-3               rlang_1.0.6                \n",
       " [55] splines_4.2.2               rstatix_0.7.2              \n",
       " [57] lazyeval_0.2.2              checkmate_2.1.0            \n",
       " [59] spatstat.geom_3.0-6         broom_1.0.3                \n",
       " [61] reshape2_1.4.4              abind_1.4-5                \n",
       " [63] backports_1.4.1             httpuv_1.6.8               \n",
       " [65] Hmisc_4.8-0                 tools_4.2.2                \n",
       " [67] lavaan_0.6-14               psych_2.2.9                \n",
       " [69] ellipsis_0.3.2              RColorBrewer_1.1-3         \n",
       " [71] BiocGenerics_0.44.0         ggridges_0.5.4             \n",
       " [73] Rcpp_1.0.10                 plyr_1.8.8                 \n",
       " [75] base64enc_0.1-3             sparseMatrixStats_1.10.0   \n",
       " [77] zlibbioc_1.44.0             purrr_1.0.1                \n",
       " [79] RCurl_1.98-1.10             rpart_4.1.19               \n",
       " [81] deldir_1.0-6                pbapply_1.7-0              \n",
       " [83] S4Vectors_0.36.1            zoo_1.8-11                 \n",
       " [85] SummarizedExperiment_1.28.0 cluster_2.1.4              \n",
       " [87] magrittr_2.0.3              data.table_1.14.6          \n",
       " [89] scattermore_0.8             lmtest_0.9-40              \n",
       " [91] RANN_2.6.1                  fitdistrplus_1.1-8         \n",
       " [93] matrixStats_0.63.0          patchwork_1.1.2            \n",
       " [95] mime_0.12                   evaluate_0.20              \n",
       " [97] xtable_1.8-4                XML_3.99-0.9               \n",
       " [99] jpeg_0.1-10                 IRanges_2.32.0             \n",
       "[101] gridExtra_2.3               compiler_4.2.2             \n",
       "[103] KernSmooth_2.23-20          crayon_1.5.2               \n",
       "[105] R.oo_1.25.0                 htmltools_0.5.4            \n",
       "[107] ggfun_0.0.9                 corpcor_1.6.10             \n",
       "[109] later_1.3.0                 Formula_1.2-4              \n",
       "[111] DBI_1.1.3                   tweenr_2.0.2               \n",
       "[113] MASS_7.3-58.2               car_3.1-1                  \n",
       "[115] cli_3.6.0                   quadprog_1.5-8             \n",
       "[117] R.methodsS3_1.8.2           GenomicRanges_1.50.2       \n",
       "[119] pkgconfig_2.0.3             foreign_0.8-84             \n",
       "[121] sp_1.6-0                    IRdisplay_1.1              \n",
       "[123] plotly_4.10.1               spatstat.sparse_3.0-0      \n",
       "[125] pbivnorm_0.6.0              annotate_1.76.0            \n",
       "[127] XVector_0.38.0              stringr_1.5.0              \n",
       "[129] digest_0.6.31               sctransform_0.3.5          \n",
       "[131] RcppAnnoy_0.0.20            graph_1.76.0               \n",
       "[133] spatstat.data_3.0-0         Biostrings_2.66.0          \n",
       "[135] leiden_0.4.3                htmlTable_2.4.1            \n",
       "[137] uwot_0.1.14                 DelayedMatrixStats_1.20.0  \n",
       "[139] GSEABase_1.60.0             gtools_3.9.4               \n",
       "[141] shiny_1.7.4                 glasso_1.11                \n",
       "[143] lifecycle_1.0.3             nlme_3.1-162               \n",
       "[145] jsonlite_1.8.4              carData_3.0-5              \n",
       "[147] fansi_1.0.4                 pillar_1.8.1               \n",
       "[149] lattice_0.20-45             KEGGREST_1.38.0            \n",
       "[151] fastmap_1.1.0               httr_1.4.4                 \n",
       "[153] survival_3.5-0              glue_1.6.2                 \n",
       "[155] fdrtool_1.2.17              png_0.1-8                  \n",
       "[157] bit_4.0.5                   stringi_1.7.12             \n",
       "[159] blob_1.2.3                  latticeExtra_0.6-30        \n",
       "[161] memoise_2.0.1               IRkernel_1.3.2             \n",
       "[163] irlba_2.3.5.1               future.apply_1.10.0        "
      ]
     },
     "metadata": {},
     "output_type": "display_data"
    }
   ],
   "source": [
    "sessionInfo()"
   ]
  }
 ],
 "metadata": {
  "kernelspec": {
   "display_name": "R",
   "language": "R",
   "name": "ir"
  },
  "language_info": {
   "codemirror_mode": "r",
   "file_extension": ".r",
   "mimetype": "text/x-r-source",
   "name": "R",
   "pygments_lexer": "r",
   "version": "4.2.2"
  }
 },
 "nbformat": 4,
 "nbformat_minor": 5
}
