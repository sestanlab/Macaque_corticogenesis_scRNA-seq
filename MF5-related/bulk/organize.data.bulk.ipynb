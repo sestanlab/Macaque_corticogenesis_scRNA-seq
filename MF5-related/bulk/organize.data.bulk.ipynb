{
 "cells": [
  {
   "cell_type": "code",
   "execution_count": 1,
   "metadata": {},
   "outputs": [
    {
     "name": "stderr",
     "output_type": "stream",
     "text": [
      "Registered S3 methods overwritten by 'tibble':\n",
      "  method     from  \n",
      "  format.tbl pillar\n",
      "  print.tbl  pillar\n",
      "\n",
      "\n",
      "Attaching package: ‘dplyr’\n",
      "\n",
      "\n",
      "The following objects are masked from ‘package:stats’:\n",
      "\n",
      "    filter, lag\n",
      "\n",
      "\n",
      "The following objects are masked from ‘package:base’:\n",
      "\n",
      "    intersect, setdiff, setequal, union\n",
      "\n",
      "\n"
     ]
    }
   ],
   "source": [
    "library(dplyr)\n",
    "library(tibble)\n",
    "dataDir <- \"~/labdata/dataShare_from_Mingfeng/10xgenome/Nicola_monkey_10X/genexp/\"\n"
   ]
  },
  {
   "cell_type": "code",
   "execution_count": 2,
   "metadata": {},
   "outputs": [],
   "source": [
    "rpkm <- read.table(paste0(dataDir, \"nicola.monkeyNESdiff.gene.RPKM.txt\"), header = TRUE, stringsAsFactors = FALSE) %>%\n",
    "        column_to_rownames(\"Geneid\") %>%\n",
    "        as.matrix()\n",
    "count <- read.table(paste0(dataDir, \"nicola.monkeyNESdiff.gene.count.txt\"), header = TRUE, stringsAsFactors = FALSE) %>%\n",
    "        column_to_rownames(\"Geneid\") %>%\n",
    "        as.matrix()"
   ]
  },
  {
   "cell_type": "code",
   "execution_count": 3,
   "metadata": {},
   "outputs": [
    {
     "data": {
      "text/html": [
       "<table class=\"dataframe\">\n",
       "<caption>A matrix: 6 × 57 of type dbl</caption>\n",
       "<thead>\n",
       "\t<tr><th></th><th scope=col>RM_1F_77</th><th scope=col>RM_4F_77</th><th scope=col>RM_4C_77</th><th scope=col>RM_4GE_77</th><th scope=col>RM_5F_77</th><th scope=col>RM_5C_77</th><th scope=col>RM_5GE_77</th><th scope=col>RM_6F_77</th><th scope=col>RM_6C_77</th><th scope=col>RM_6GE_77</th><th scope=col>⋯</th><th scope=col>RM_8F_42</th><th scope=col>RM_8C_42</th><th scope=col>RM_8GE_42</th><th scope=col>RM_9F_42</th><th scope=col>RM_9C_42</th><th scope=col>RM_9GE_42</th><th scope=col>RM_2GE_77</th><th scope=col>RM_3F_77</th><th scope=col>RM_3C_77</th><th scope=col>RM_3GE_77</th></tr>\n",
       "</thead>\n",
       "<tbody>\n",
       "\t<tr><th scope=row>PGBD2</th><td>2.0069</td><td>2.8310</td><td> 2.8306</td><td>2.9694</td><td>2.8602</td><td> 2.6911</td><td> 2.6750</td><td>4.1757</td><td>3.3134</td><td>3.8668</td><td>⋯</td><td>3.8758</td><td>4.0875</td><td>4.6206</td><td>4.2411</td><td>4.5914</td><td>4.8440</td><td>3.0234</td><td>2.2727</td><td>2.8602</td><td>2.7812</td></tr>\n",
       "\t<tr><th scope=row>LOC114674980</th><td>0.0000</td><td>0.0000</td><td> 0.0000</td><td>0.0000</td><td>0.0000</td><td> 0.0000</td><td> 0.0000</td><td>0.0000</td><td>0.0000</td><td>0.0000</td><td>⋯</td><td>0.0000</td><td>0.0000</td><td>0.0000</td><td>0.0000</td><td>0.0000</td><td>0.0000</td><td>0.0000</td><td>0.0000</td><td>0.0000</td><td>0.0000</td></tr>\n",
       "\t<tr><th scope=row>TRNAE-CUC</th><td>4.8155</td><td>6.1456</td><td> 1.8640</td><td>3.6460</td><td>4.5153</td><td> 3.4293</td><td> 3.5628</td><td>2.7903</td><td>1.5257</td><td>3.7361</td><td>⋯</td><td>0.7393</td><td>0.6893</td><td>2.0353</td><td>2.4996</td><td>0.9396</td><td>1.8092</td><td>4.0565</td><td>2.8806</td><td>2.0812</td><td>0.9757</td></tr>\n",
       "\t<tr><th scope=row>ZNF692</th><td>6.9547</td><td>9.9274</td><td>10.5333</td><td>9.6553</td><td>8.9711</td><td>10.2942</td><td>10.7591</td><td>8.3759</td><td>7.3474</td><td>8.1489</td><td>⋯</td><td>6.1464</td><td>7.7852</td><td>9.7491</td><td>7.1344</td><td>9.1413</td><td>7.7205</td><td>8.6851</td><td>7.2286</td><td>9.3372</td><td>9.1973</td></tr>\n",
       "\t<tr><th scope=row>TRNAL-CAA</th><td>1.5479</td><td>0.0000</td><td> 0.0000</td><td>0.0000</td><td>0.8601</td><td> 0.0000</td><td> 0.0000</td><td>0.9567</td><td>1.3077</td><td>0.5337</td><td>⋯</td><td>0.2112</td><td>1.1816</td><td>1.0467</td><td>0.3571</td><td>1.6108</td><td>0.0000</td><td>0.0000</td><td>0.9876</td><td>0.4460</td><td>0.0000</td></tr>\n",
       "\t<tr><th scope=row>LOC114678402</th><td>0.6426</td><td>1.0406</td><td> 0.8462</td><td>0.8053</td><td>0.8310</td><td> 0.7574</td><td> 0.7432</td><td>0.6573</td><td>0.9173</td><td>0.9168</td><td>⋯</td><td>0.4535</td><td>0.7358</td><td>0.4945</td><td>0.5367</td><td>0.4150</td><td>0.3996</td><td>0.9386</td><td>0.9543</td><td>0.8044</td><td>0.9877</td></tr>\n",
       "</tbody>\n",
       "</table>\n"
      ],
      "text/latex": [
       "A matrix: 6 × 57 of type dbl\n",
       "\\begin{tabular}{r|lllllllllllllllllllll}\n",
       "  & RM\\_1F\\_77 & RM\\_4F\\_77 & RM\\_4C\\_77 & RM\\_4GE\\_77 & RM\\_5F\\_77 & RM\\_5C\\_77 & RM\\_5GE\\_77 & RM\\_6F\\_77 & RM\\_6C\\_77 & RM\\_6GE\\_77 & ⋯ & RM\\_8F\\_42 & RM\\_8C\\_42 & RM\\_8GE\\_42 & RM\\_9F\\_42 & RM\\_9C\\_42 & RM\\_9GE\\_42 & RM\\_2GE\\_77 & RM\\_3F\\_77 & RM\\_3C\\_77 & RM\\_3GE\\_77\\\\\n",
       "\\hline\n",
       "\tPGBD2 & 2.0069 & 2.8310 &  2.8306 & 2.9694 & 2.8602 &  2.6911 &  2.6750 & 4.1757 & 3.3134 & 3.8668 & ⋯ & 3.8758 & 4.0875 & 4.6206 & 4.2411 & 4.5914 & 4.8440 & 3.0234 & 2.2727 & 2.8602 & 2.7812\\\\\n",
       "\tLOC114674980 & 0.0000 & 0.0000 &  0.0000 & 0.0000 & 0.0000 &  0.0000 &  0.0000 & 0.0000 & 0.0000 & 0.0000 & ⋯ & 0.0000 & 0.0000 & 0.0000 & 0.0000 & 0.0000 & 0.0000 & 0.0000 & 0.0000 & 0.0000 & 0.0000\\\\\n",
       "\tTRNAE-CUC & 4.8155 & 6.1456 &  1.8640 & 3.6460 & 4.5153 &  3.4293 &  3.5628 & 2.7903 & 1.5257 & 3.7361 & ⋯ & 0.7393 & 0.6893 & 2.0353 & 2.4996 & 0.9396 & 1.8092 & 4.0565 & 2.8806 & 2.0812 & 0.9757\\\\\n",
       "\tZNF692 & 6.9547 & 9.9274 & 10.5333 & 9.6553 & 8.9711 & 10.2942 & 10.7591 & 8.3759 & 7.3474 & 8.1489 & ⋯ & 6.1464 & 7.7852 & 9.7491 & 7.1344 & 9.1413 & 7.7205 & 8.6851 & 7.2286 & 9.3372 & 9.1973\\\\\n",
       "\tTRNAL-CAA & 1.5479 & 0.0000 &  0.0000 & 0.0000 & 0.8601 &  0.0000 &  0.0000 & 0.9567 & 1.3077 & 0.5337 & ⋯ & 0.2112 & 1.1816 & 1.0467 & 0.3571 & 1.6108 & 0.0000 & 0.0000 & 0.9876 & 0.4460 & 0.0000\\\\\n",
       "\tLOC114678402 & 0.6426 & 1.0406 &  0.8462 & 0.8053 & 0.8310 &  0.7574 &  0.7432 & 0.6573 & 0.9173 & 0.9168 & ⋯ & 0.4535 & 0.7358 & 0.4945 & 0.5367 & 0.4150 & 0.3996 & 0.9386 & 0.9543 & 0.8044 & 0.9877\\\\\n",
       "\\end{tabular}\n"
      ],
      "text/markdown": [
       "\n",
       "A matrix: 6 × 57 of type dbl\n",
       "\n",
       "| <!--/--> | RM_1F_77 | RM_4F_77 | RM_4C_77 | RM_4GE_77 | RM_5F_77 | RM_5C_77 | RM_5GE_77 | RM_6F_77 | RM_6C_77 | RM_6GE_77 | ⋯ | RM_8F_42 | RM_8C_42 | RM_8GE_42 | RM_9F_42 | RM_9C_42 | RM_9GE_42 | RM_2GE_77 | RM_3F_77 | RM_3C_77 | RM_3GE_77 |\n",
       "|---|---|---|---|---|---|---|---|---|---|---|---|---|---|---|---|---|---|---|---|---|---|\n",
       "| PGBD2 | 2.0069 | 2.8310 |  2.8306 | 2.9694 | 2.8602 |  2.6911 |  2.6750 | 4.1757 | 3.3134 | 3.8668 | ⋯ | 3.8758 | 4.0875 | 4.6206 | 4.2411 | 4.5914 | 4.8440 | 3.0234 | 2.2727 | 2.8602 | 2.7812 |\n",
       "| LOC114674980 | 0.0000 | 0.0000 |  0.0000 | 0.0000 | 0.0000 |  0.0000 |  0.0000 | 0.0000 | 0.0000 | 0.0000 | ⋯ | 0.0000 | 0.0000 | 0.0000 | 0.0000 | 0.0000 | 0.0000 | 0.0000 | 0.0000 | 0.0000 | 0.0000 |\n",
       "| TRNAE-CUC | 4.8155 | 6.1456 |  1.8640 | 3.6460 | 4.5153 |  3.4293 |  3.5628 | 2.7903 | 1.5257 | 3.7361 | ⋯ | 0.7393 | 0.6893 | 2.0353 | 2.4996 | 0.9396 | 1.8092 | 4.0565 | 2.8806 | 2.0812 | 0.9757 |\n",
       "| ZNF692 | 6.9547 | 9.9274 | 10.5333 | 9.6553 | 8.9711 | 10.2942 | 10.7591 | 8.3759 | 7.3474 | 8.1489 | ⋯ | 6.1464 | 7.7852 | 9.7491 | 7.1344 | 9.1413 | 7.7205 | 8.6851 | 7.2286 | 9.3372 | 9.1973 |\n",
       "| TRNAL-CAA | 1.5479 | 0.0000 |  0.0000 | 0.0000 | 0.8601 |  0.0000 |  0.0000 | 0.9567 | 1.3077 | 0.5337 | ⋯ | 0.2112 | 1.1816 | 1.0467 | 0.3571 | 1.6108 | 0.0000 | 0.0000 | 0.9876 | 0.4460 | 0.0000 |\n",
       "| LOC114678402 | 0.6426 | 1.0406 |  0.8462 | 0.8053 | 0.8310 |  0.7574 |  0.7432 | 0.6573 | 0.9173 | 0.9168 | ⋯ | 0.4535 | 0.7358 | 0.4945 | 0.5367 | 0.4150 | 0.3996 | 0.9386 | 0.9543 | 0.8044 | 0.9877 |\n",
       "\n"
      ],
      "text/plain": [
       "             RM_1F_77 RM_4F_77 RM_4C_77 RM_4GE_77 RM_5F_77 RM_5C_77 RM_5GE_77\n",
       "PGBD2        2.0069   2.8310    2.8306  2.9694    2.8602    2.6911   2.6750  \n",
       "LOC114674980 0.0000   0.0000    0.0000  0.0000    0.0000    0.0000   0.0000  \n",
       "TRNAE-CUC    4.8155   6.1456    1.8640  3.6460    4.5153    3.4293   3.5628  \n",
       "ZNF692       6.9547   9.9274   10.5333  9.6553    8.9711   10.2942  10.7591  \n",
       "TRNAL-CAA    1.5479   0.0000    0.0000  0.0000    0.8601    0.0000   0.0000  \n",
       "LOC114678402 0.6426   1.0406    0.8462  0.8053    0.8310    0.7574   0.7432  \n",
       "             RM_6F_77 RM_6C_77 RM_6GE_77 ⋯ RM_8F_42 RM_8C_42 RM_8GE_42 RM_9F_42\n",
       "PGBD2        4.1757   3.3134   3.8668    ⋯ 3.8758   4.0875   4.6206    4.2411  \n",
       "LOC114674980 0.0000   0.0000   0.0000    ⋯ 0.0000   0.0000   0.0000    0.0000  \n",
       "TRNAE-CUC    2.7903   1.5257   3.7361    ⋯ 0.7393   0.6893   2.0353    2.4996  \n",
       "ZNF692       8.3759   7.3474   8.1489    ⋯ 6.1464   7.7852   9.7491    7.1344  \n",
       "TRNAL-CAA    0.9567   1.3077   0.5337    ⋯ 0.2112   1.1816   1.0467    0.3571  \n",
       "LOC114678402 0.6573   0.9173   0.9168    ⋯ 0.4535   0.7358   0.4945    0.5367  \n",
       "             RM_9C_42 RM_9GE_42 RM_2GE_77 RM_3F_77 RM_3C_77 RM_3GE_77\n",
       "PGBD2        4.5914   4.8440    3.0234    2.2727   2.8602   2.7812   \n",
       "LOC114674980 0.0000   0.0000    0.0000    0.0000   0.0000   0.0000   \n",
       "TRNAE-CUC    0.9396   1.8092    4.0565    2.8806   2.0812   0.9757   \n",
       "ZNF692       9.1413   7.7205    8.6851    7.2286   9.3372   9.1973   \n",
       "TRNAL-CAA    1.6108   0.0000    0.0000    0.9876   0.4460   0.0000   \n",
       "LOC114678402 0.4150   0.3996    0.9386    0.9543   0.8044   0.9877   "
      ]
     },
     "metadata": {},
     "output_type": "display_data"
    }
   ],
   "source": [
    "head(rpkm)"
   ]
  },
  {
   "cell_type": "code",
   "execution_count": 4,
   "metadata": {},
   "outputs": [
    {
     "data": {
      "text/html": [
       "<table class=\"dataframe\">\n",
       "<caption>A data.frame: 6 × 5</caption>\n",
       "<thead>\n",
       "\t<tr><th></th><th scope=col>samplename</th><th scope=col>age</th><th scope=col>dayregion</th><th scope=col>days</th><th scope=col>region</th></tr>\n",
       "\t<tr><th></th><th scope=col>&lt;chr&gt;</th><th scope=col>&lt;chr&gt;</th><th scope=col>&lt;chr&gt;</th><th scope=col>&lt;dbl&gt;</th><th scope=col>&lt;chr&gt;</th></tr>\n",
       "</thead>\n",
       "<tbody>\n",
       "\t<tr><th scope=row>RM_1F_77</th><td>RM_1F_77 </td><td>E77</td><td>1F </td><td>1</td><td>FC</td></tr>\n",
       "\t<tr><th scope=row>RM_4F_77</th><td>RM_4F_77 </td><td>E77</td><td>4F </td><td>4</td><td>FC</td></tr>\n",
       "\t<tr><th scope=row>RM_4C_77</th><td>RM_4C_77 </td><td>E77</td><td>4C </td><td>4</td><td>OC</td></tr>\n",
       "\t<tr><th scope=row>RM_4GE_77</th><td>RM_4GE_77</td><td>E77</td><td>4GE</td><td>4</td><td>GE</td></tr>\n",
       "\t<tr><th scope=row>RM_5F_77</th><td>RM_5F_77 </td><td>E77</td><td>5F </td><td>5</td><td>FC</td></tr>\n",
       "\t<tr><th scope=row>RM_5C_77</th><td>RM_5C_77 </td><td>E77</td><td>5C </td><td>5</td><td>OC</td></tr>\n",
       "</tbody>\n",
       "</table>\n"
      ],
      "text/latex": [
       "A data.frame: 6 × 5\n",
       "\\begin{tabular}{r|lllll}\n",
       "  & samplename & age & dayregion & days & region\\\\\n",
       "  & <chr> & <chr> & <chr> & <dbl> & <chr>\\\\\n",
       "\\hline\n",
       "\tRM\\_1F\\_77 & RM\\_1F\\_77  & E77 & 1F  & 1 & FC\\\\\n",
       "\tRM\\_4F\\_77 & RM\\_4F\\_77  & E77 & 4F  & 4 & FC\\\\\n",
       "\tRM\\_4C\\_77 & RM\\_4C\\_77  & E77 & 4C  & 4 & OC\\\\\n",
       "\tRM\\_4GE\\_77 & RM\\_4GE\\_77 & E77 & 4GE & 4 & GE\\\\\n",
       "\tRM\\_5F\\_77 & RM\\_5F\\_77  & E77 & 5F  & 5 & FC\\\\\n",
       "\tRM\\_5C\\_77 & RM\\_5C\\_77  & E77 & 5C  & 5 & OC\\\\\n",
       "\\end{tabular}\n"
      ],
      "text/markdown": [
       "\n",
       "A data.frame: 6 × 5\n",
       "\n",
       "| <!--/--> | samplename &lt;chr&gt; | age &lt;chr&gt; | dayregion &lt;chr&gt; | days &lt;dbl&gt; | region &lt;chr&gt; |\n",
       "|---|---|---|---|---|---|\n",
       "| RM_1F_77 | RM_1F_77  | E77 | 1F  | 1 | FC |\n",
       "| RM_4F_77 | RM_4F_77  | E77 | 4F  | 4 | FC |\n",
       "| RM_4C_77 | RM_4C_77  | E77 | 4C  | 4 | OC |\n",
       "| RM_4GE_77 | RM_4GE_77 | E77 | 4GE | 4 | GE |\n",
       "| RM_5F_77 | RM_5F_77  | E77 | 5F  | 5 | FC |\n",
       "| RM_5C_77 | RM_5C_77  | E77 | 5C  | 5 | OC |\n",
       "\n"
      ],
      "text/plain": [
       "          samplename age dayregion days region\n",
       "RM_1F_77  RM_1F_77   E77 1F        1    FC    \n",
       "RM_4F_77  RM_4F_77   E77 4F        4    FC    \n",
       "RM_4C_77  RM_4C_77   E77 4C        4    OC    \n",
       "RM_4GE_77 RM_4GE_77  E77 4GE       4    GE    \n",
       "RM_5F_77  RM_5F_77   E77 5F        5    FC    \n",
       "RM_5C_77  RM_5C_77   E77 5C        5    OC    "
      ]
     },
     "metadata": {},
     "output_type": "display_data"
    }
   ],
   "source": [
    "## Update rownames to match the seurat modification\n",
    "rownames(rpkm) <- gsub(\"_\", \"-\", rownames(rpkm))\n",
    "rownames(count) <- gsub(\"_\", \"-\", rownames(count))\n",
    "\n",
    "\n",
    "## sample meta data\n",
    "meta <- data.frame(row.names = colnames(rpkm),\n",
    "                samplename = colnames(rpkm),\n",
    "                stringsAsFactors = FALSE)\n",
    "meta$age <- strsplit(meta$samplename, \"_\", fixed = TRUE) %>%\n",
    "                sapply(., function(x) x[3]) %>%\n",
    "                paste0(\"E\", .)\n",
    "meta$dayregion <- strsplit(meta$samplename, \"_\", fixed = TRUE) %>%\n",
    "                sapply(., function(x) x[2])\n",
    "meta$days <- sapply(meta$dayregion, function(x) gsub(\"[A-Z]\", \"\", x)) %>%\n",
    "                as.numeric()\n",
    "meta$region <- sapply(meta$dayregion, function(x) gsub(\"[0-9]\", \"\", x)) %>%\n",
    "                gsub(\"^F$\", \"FC\", .) %>%\n",
    "                gsub(\"^C$\", \"OC\", .)\n",
    "head(meta)\n",
    "save(count, rpkm, meta, file = paste0(\"./load_files/NSC_invitro_bulk_RNA.Rdata\"))"
   ]
  },
  {
   "cell_type": "code",
   "execution_count": 5,
   "metadata": {},
   "outputs": [],
   "source": [
    "## Remove GE\n",
    "\n",
    "submeta <- meta[meta$region != \"GE\", ]\n",
    "subcount <- count[, rownames(submeta)]\n",
    "subrpkm <- rpkm[, rownames(submeta)]\n",
    "save(subcount, subrpkm, submeta, file = paste0(\"./load_files/NSC_invitro_dorsal_bulk_RNA.Rdata\"))\n"
   ]
  },
  {
   "cell_type": "code",
   "execution_count": 6,
   "metadata": {},
   "outputs": [
    {
     "data": {
      "text/plain": [
       "R version 3.6.1 (2019-07-05)\n",
       "Platform: x86_64-pc-linux-gnu (64-bit)\n",
       "Running under: Red Hat Enterprise Linux Server 7.9 (Maipo)\n",
       "\n",
       "Matrix products: default\n",
       "BLAS:   /gpfs/ycga/home/sm2726/packages/R_versions/R-3.6.1/lib64/R/lib/libRblas.so\n",
       "LAPACK: /gpfs/ycga/home/sm2726/packages/R_versions/R-3.6.1/lib64/R/lib/libRlapack.so\n",
       "\n",
       "locale:\n",
       " [1] LC_CTYPE=en_US.UTF-8       LC_NUMERIC=C              \n",
       " [3] LC_TIME=en_US.UTF-8        LC_COLLATE=en_US.UTF-8    \n",
       " [5] LC_MONETARY=en_US.UTF-8    LC_MESSAGES=en_US.UTF-8   \n",
       " [7] LC_PAPER=en_US.UTF-8       LC_NAME=C                 \n",
       " [9] LC_ADDRESS=C               LC_TELEPHONE=C            \n",
       "[11] LC_MEASUREMENT=en_US.UTF-8 LC_IDENTIFICATION=C       \n",
       "\n",
       "attached base packages:\n",
       "[1] stats     graphics  grDevices utils     datasets  methods   base     \n",
       "\n",
       "other attached packages:\n",
       "[1] tibble_3.0.1 dplyr_1.0.7 \n",
       "\n",
       "loaded via a namespace (and not attached):\n",
       " [1] magrittr_2.0.3    tidyselect_1.1.0  uuid_1.1-0        R6_2.4.1         \n",
       " [5] rlang_0.4.11      fansi_0.4.1       tools_3.6.1       utf8_1.1.4       \n",
       " [9] DBI_1.1.0         htmltools_0.5.1.1 ellipsis_0.3.2    assertthat_0.2.1 \n",
       "[13] digest_0.6.25     lifecycle_1.0.0   crayon_1.3.4      IRdisplay_1.1    \n",
       "[17] purrr_0.3.4       repr_1.1.6        base64enc_0.1-3   vctrs_0.3.8      \n",
       "[21] IRkernel_1.3.2    glue_1.6.2        evaluate_0.15     pbdZMQ_0.3-9     \n",
       "[25] compiler_3.6.1    pillar_1.6.2      generics_0.1.0    jsonlite_1.6.1   \n",
       "[29] pkgconfig_2.0.3  "
      ]
     },
     "metadata": {},
     "output_type": "display_data"
    }
   ],
   "source": [
    "sessionInfo()"
   ]
  }
 ],
 "metadata": {
  "kernelspec": {
   "display_name": "R",
   "language": "R",
   "name": "ir"
  },
  "language_info": {
   "codemirror_mode": "r",
   "file_extension": ".r",
   "mimetype": "text/x-r-source",
   "name": "R",
   "pygments_lexer": "r",
   "version": "3.6.1"
  }
 },
 "nbformat": 4,
 "nbformat_minor": 5
}
