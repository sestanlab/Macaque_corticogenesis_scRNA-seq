{
 "cells": [
  {
   "cell_type": "code",
   "execution_count": 1,
   "metadata": {},
   "outputs": [
    {
     "name": "stderr",
     "output_type": "stream",
     "text": [
      "Registered S3 methods overwritten by 'tibble':\n",
      "  method     from  \n",
      "  format.tbl pillar\n",
      "  print.tbl  pillar\n",
      "\n",
      "Loading required package: dplyr\n",
      "\n",
      "\n",
      "Attaching package: ‘dplyr’\n",
      "\n",
      "\n",
      "The following objects are masked from ‘package:stats’:\n",
      "\n",
      "    filter, lag\n",
      "\n",
      "\n",
      "The following objects are masked from ‘package:base’:\n",
      "\n",
      "    intersect, setdiff, setequal, union\n",
      "\n",
      "\n",
      "Loading required package: igraph\n",
      "\n",
      "\n",
      "Attaching package: ‘igraph’\n",
      "\n",
      "\n",
      "The following objects are masked from ‘package:dplyr’:\n",
      "\n",
      "    as_data_frame, groups, union\n",
      "\n",
      "\n",
      "The following objects are masked from ‘package:stats’:\n",
      "\n",
      "    decompose, spectrum\n",
      "\n",
      "\n",
      "The following object is masked from ‘package:base’:\n",
      "\n",
      "    union\n",
      "\n",
      "\n",
      "Loading required package: ggplot2\n",
      "\n",
      "========================================\n",
      "circlize version 0.4.13\n",
      "CRAN page: https://cran.r-project.org/package=circlize\n",
      "Github page: https://github.com/jokergoo/circlize\n",
      "Documentation: https://jokergoo.github.io/circlize_book/book/\n",
      "\n",
      "If you use it in published research, please cite:\n",
      "Gu, Z. circlize implements and enhances circular visualization\n",
      "  in R. Bioinformatics 2014.\n",
      "\n",
      "This message can be suppressed by:\n",
      "  suppressPackageStartupMessages(library(circlize))\n",
      "========================================\n",
      "\n",
      "\n",
      "\n",
      "Attaching package: ‘circlize’\n",
      "\n",
      "\n",
      "The following object is masked from ‘package:igraph’:\n",
      "\n",
      "    degree\n",
      "\n",
      "\n",
      "\n",
      "Attaching package: ‘tidyr’\n",
      "\n",
      "\n",
      "The following object is masked from ‘package:igraph’:\n",
      "\n",
      "    crossing\n",
      "\n",
      "\n",
      "\n",
      "Attaching package: ‘tibble’\n",
      "\n",
      "\n",
      "The following object is masked from ‘package:igraph’:\n",
      "\n",
      "    as_data_frame\n",
      "\n",
      "\n"
     ]
    }
   ],
   "source": [
    "library(Seurat)\n",
    "library(CellChat) \n",
    "library(patchwork) \n",
    "library(ggpubr)\n",
    "library(circlize)\n",
    "options(stringsAsFactors = FALSE)\n",
    "library(tidyr) ## gather\n",
    "library(tibble)\n",
    "library(ggsankey)\n",
    "source(\"./chat.fun.R\")"
   ]
  },
  {
   "cell_type": "code",
   "execution_count": 2,
   "metadata": {
    "scrolled": true
   },
   "outputs": [],
   "source": [
    "## Load cellchat results\n",
    "res <- readRDS(file = \"./load_files/Cellchat_res_custom.rds\")\n",
    "\n",
    "interactions <- read.csv(file = \"./load_files/cellchat_custom/interaction_input_CellChatDB.csv\", row.names = 1)"
   ]
  },
  {
   "cell_type": "code",
   "execution_count": 3,
   "metadata": {},
   "outputs": [
    {
     "data": {
      "text/html": [
       "'WNT5A_ROR1'"
      ],
      "text/latex": [
       "'WNT5A\\_ROR1'"
      ],
      "text/markdown": [
       "'WNT5A_ROR1'"
      ],
      "text/plain": [
       "[1] \"WNT5A_ROR1\""
      ]
     },
     "metadata": {},
     "output_type": "display_data"
    },
    {
     "data": {
      "text/html": [
       "'WNT5A_ROR2'"
      ],
      "text/latex": [
       "'WNT5A\\_ROR2'"
      ],
      "text/markdown": [
       "'WNT5A_ROR2'"
      ],
      "text/plain": [
       "[1] \"WNT5A_ROR2\""
      ]
     },
     "metadata": {},
     "output_type": "display_data"
    }
   ],
   "source": [
    "## there is a wrong annotation in the database\n",
    "interactions[\"WNT5A_ROR2\", \"interaction_name\"]\n",
    "interactions[\"WNT5A_ROR2\", \"interaction_name\"] <- \"WNT5A_ROR2\"\n",
    "interactions[\"WNT5A_ROR2\", \"interaction_name\"]"
   ]
  },
  {
   "cell_type": "code",
   "execution_count": 4,
   "metadata": {},
   "outputs": [
    {
     "data": {
      "text/html": [
       "<style>\n",
       ".list-inline {list-style: none; margin:0; padding: 0}\n",
       ".list-inline>li {display: inline-block}\n",
       ".list-inline>li:not(:last-child)::after {content: \"\\00b7\"; padding: 0 .5ex}\n",
       "</style>\n",
       "<ol class=list-inline><li>106</li><li>12</li></ol>\n"
      ],
      "text/latex": [
       "\\begin{enumerate*}\n",
       "\\item 106\n",
       "\\item 12\n",
       "\\end{enumerate*}\n"
      ],
      "text/markdown": [
       "1. 106\n",
       "2. 12\n",
       "\n",
       "\n"
      ],
      "text/plain": [
       "[1] 106  12"
      ]
     },
     "metadata": {},
     "output_type": "display_data"
    },
    {
     "data": {
      "text/html": [
       "<table class=\"dataframe\">\n",
       "<caption>A matrix: 6 × 12 of type dbl</caption>\n",
       "<thead>\n",
       "\t<tr><th></th><th scope=col>PC FGF17|FC NERG-early</th><th scope=col>PC FGF17|GE NERG-early</th><th scope=col>PC FGF17|OcC NERG-early</th><th scope=col>PC NKX2-1|FC NERG-early</th><th scope=col>PC NKX2-1|GE NERG-early</th><th scope=col>PC NKX2-1|OcC NERG-early</th><th scope=col>PC RSPO3|FC NERG-early</th><th scope=col>PC RSPO3|GE NERG-early</th><th scope=col>PC RSPO3|OcC NERG-early</th><th scope=col>PC TTR|FC NERG-early</th><th scope=col>PC TTR|GE NERG-early</th><th scope=col>PC TTR|OcC NERG-early</th></tr>\n",
       "</thead>\n",
       "<tbody>\n",
       "\t<tr><th scope=row>BMP2_SMO</th><td>1</td><td>1</td><td>1</td><td>1.00</td><td>1</td><td>1</td><td>0</td><td>0</td><td>0.00</td><td>1</td><td>1</td><td>1</td></tr>\n",
       "\t<tr><th scope=row>BMP7_PTPRK</th><td>0</td><td>1</td><td>1</td><td>0.00</td><td>1</td><td>1</td><td>0</td><td>1</td><td>1.00</td><td>0</td><td>1</td><td>1</td></tr>\n",
       "\t<tr><th scope=row>GDF11_TGFBR1_ACVR2B</th><td>0</td><td>1</td><td>0</td><td>0.03</td><td>1</td><td>1</td><td>0</td><td>1</td><td>0.05</td><td>0</td><td>1</td><td>0</td></tr>\n",
       "\t<tr><th scope=row>WNT3A_FZD1</th><td>1</td><td>1</td><td>1</td><td>1.00</td><td>1</td><td>1</td><td>0</td><td>1</td><td>0.00</td><td>1</td><td>1</td><td>1</td></tr>\n",
       "\t<tr><th scope=row>WNT3A_FZD2</th><td>1</td><td>1</td><td>1</td><td>1.00</td><td>1</td><td>1</td><td>0</td><td>0</td><td>0.00</td><td>1</td><td>1</td><td>1</td></tr>\n",
       "\t<tr><th scope=row>WNT3A_FZD8</th><td>1</td><td>1</td><td>1</td><td>1.00</td><td>1</td><td>1</td><td>0</td><td>0</td><td>0.00</td><td>1</td><td>1</td><td>1</td></tr>\n",
       "</tbody>\n",
       "</table>\n"
      ],
      "text/latex": [
       "A matrix: 6 × 12 of type dbl\n",
       "\\begin{tabular}{r|llllllllllll}\n",
       "  & PC FGF17\\textbar{}FC NERG-early & PC FGF17\\textbar{}GE NERG-early & PC FGF17\\textbar{}OcC NERG-early & PC NKX2-1\\textbar{}FC NERG-early & PC NKX2-1\\textbar{}GE NERG-early & PC NKX2-1\\textbar{}OcC NERG-early & PC RSPO3\\textbar{}FC NERG-early & PC RSPO3\\textbar{}GE NERG-early & PC RSPO3\\textbar{}OcC NERG-early & PC TTR\\textbar{}FC NERG-early & PC TTR\\textbar{}GE NERG-early & PC TTR\\textbar{}OcC NERG-early\\\\\n",
       "\\hline\n",
       "\tBMP2\\_SMO & 1 & 1 & 1 & 1.00 & 1 & 1 & 0 & 0 & 0.00 & 1 & 1 & 1\\\\\n",
       "\tBMP7\\_PTPRK & 0 & 1 & 1 & 0.00 & 1 & 1 & 0 & 1 & 1.00 & 0 & 1 & 1\\\\\n",
       "\tGDF11\\_TGFBR1\\_ACVR2B & 0 & 1 & 0 & 0.03 & 1 & 1 & 0 & 1 & 0.05 & 0 & 1 & 0\\\\\n",
       "\tWNT3A\\_FZD1 & 1 & 1 & 1 & 1.00 & 1 & 1 & 0 & 1 & 0.00 & 1 & 1 & 1\\\\\n",
       "\tWNT3A\\_FZD2 & 1 & 1 & 1 & 1.00 & 1 & 1 & 0 & 0 & 0.00 & 1 & 1 & 1\\\\\n",
       "\tWNT3A\\_FZD8 & 1 & 1 & 1 & 1.00 & 1 & 1 & 0 & 0 & 0.00 & 1 & 1 & 1\\\\\n",
       "\\end{tabular}\n"
      ],
      "text/markdown": [
       "\n",
       "A matrix: 6 × 12 of type dbl\n",
       "\n",
       "| <!--/--> | PC FGF17|FC NERG-early | PC FGF17|GE NERG-early | PC FGF17|OcC NERG-early | PC NKX2-1|FC NERG-early | PC NKX2-1|GE NERG-early | PC NKX2-1|OcC NERG-early | PC RSPO3|FC NERG-early | PC RSPO3|GE NERG-early | PC RSPO3|OcC NERG-early | PC TTR|FC NERG-early | PC TTR|GE NERG-early | PC TTR|OcC NERG-early |\n",
       "|---|---|---|---|---|---|---|---|---|---|---|---|---|\n",
       "| BMP2_SMO | 1 | 1 | 1 | 1.00 | 1 | 1 | 0 | 0 | 0.00 | 1 | 1 | 1 |\n",
       "| BMP7_PTPRK | 0 | 1 | 1 | 0.00 | 1 | 1 | 0 | 1 | 1.00 | 0 | 1 | 1 |\n",
       "| GDF11_TGFBR1_ACVR2B | 0 | 1 | 0 | 0.03 | 1 | 1 | 0 | 1 | 0.05 | 0 | 1 | 0 |\n",
       "| WNT3A_FZD1 | 1 | 1 | 1 | 1.00 | 1 | 1 | 0 | 1 | 0.00 | 1 | 1 | 1 |\n",
       "| WNT3A_FZD2 | 1 | 1 | 1 | 1.00 | 1 | 1 | 0 | 0 | 0.00 | 1 | 1 | 1 |\n",
       "| WNT3A_FZD8 | 1 | 1 | 1 | 1.00 | 1 | 1 | 0 | 0 | 0.00 | 1 | 1 | 1 |\n",
       "\n"
      ],
      "text/plain": [
       "                    PC FGF17|FC NERG-early PC FGF17|GE NERG-early\n",
       "BMP2_SMO            1                      1                     \n",
       "BMP7_PTPRK          0                      1                     \n",
       "GDF11_TGFBR1_ACVR2B 0                      1                     \n",
       "WNT3A_FZD1          1                      1                     \n",
       "WNT3A_FZD2          1                      1                     \n",
       "WNT3A_FZD8          1                      1                     \n",
       "                    PC FGF17|OcC NERG-early PC NKX2-1|FC NERG-early\n",
       "BMP2_SMO            1                       1.00                   \n",
       "BMP7_PTPRK          1                       0.00                   \n",
       "GDF11_TGFBR1_ACVR2B 0                       0.03                   \n",
       "WNT3A_FZD1          1                       1.00                   \n",
       "WNT3A_FZD2          1                       1.00                   \n",
       "WNT3A_FZD8          1                       1.00                   \n",
       "                    PC NKX2-1|GE NERG-early PC NKX2-1|OcC NERG-early\n",
       "BMP2_SMO            1                       1                       \n",
       "BMP7_PTPRK          1                       1                       \n",
       "GDF11_TGFBR1_ACVR2B 1                       1                       \n",
       "WNT3A_FZD1          1                       1                       \n",
       "WNT3A_FZD2          1                       1                       \n",
       "WNT3A_FZD8          1                       1                       \n",
       "                    PC RSPO3|FC NERG-early PC RSPO3|GE NERG-early\n",
       "BMP2_SMO            0                      0                     \n",
       "BMP7_PTPRK          0                      1                     \n",
       "GDF11_TGFBR1_ACVR2B 0                      1                     \n",
       "WNT3A_FZD1          0                      1                     \n",
       "WNT3A_FZD2          0                      0                     \n",
       "WNT3A_FZD8          0                      0                     \n",
       "                    PC RSPO3|OcC NERG-early PC TTR|FC NERG-early\n",
       "BMP2_SMO            0.00                    1                   \n",
       "BMP7_PTPRK          1.00                    0                   \n",
       "GDF11_TGFBR1_ACVR2B 0.05                    0                   \n",
       "WNT3A_FZD1          0.00                    1                   \n",
       "WNT3A_FZD2          0.00                    1                   \n",
       "WNT3A_FZD8          0.00                    1                   \n",
       "                    PC TTR|GE NERG-early PC TTR|OcC NERG-early\n",
       "BMP2_SMO            1                    1                    \n",
       "BMP7_PTPRK          1                    1                    \n",
       "GDF11_TGFBR1_ACVR2B 1                    0                    \n",
       "WNT3A_FZD1          1                    1                    \n",
       "WNT3A_FZD2          1                    1                    \n",
       "WNT3A_FZD8          1                    1                    "
      ]
     },
     "metadata": {},
     "output_type": "display_data"
    }
   ],
   "source": [
    "## Extract cellchat results\n",
    "inter_pre <- rownames(res@LR$LRsig) %>%\n",
    "                intersect(., interactions$interaction_name)\n",
    "\n",
    "\n",
    "## Set interaction pairs\n",
    "pc_clusters <- c(\"PC FGF17\", \"PC NKX2-1\", \"PC RSPO3\", \"PC TTR\")\n",
    "rgc_clusters <- c(\"FC NERG-early\", \"GE NERG-early\", \"OcC NERG-early\")\n",
    "cls_pairs <- expand.grid(rgc_clusters, pc_clusters) %>%\n",
    "                mutate(Var1 = as.character(Var1), Var2 = as.character(Var2)) %>%\n",
    "                subset(Var1 != Var2) %>%\n",
    "        mutate(pair = paste0(Var2, \"|\", Var1)) %>%\n",
    "        .$pair\n",
    "\n",
    "\n",
    "## Get the interaction df\n",
    "## Filter based on p values & probs (p < 0.05 & prob > 1e-6)\n",
    "probs <- res@net$prob\n",
    "pvals <- res@net$pval\n",
    "\n",
    "mats <- lapply(inter_pre, function(ii) {\n",
    "    mat <- pvals[,,ii]; probmat <- probs[,,ii]\n",
    "    mat[mat > 0.05] <- 1\n",
    "    mat[probmat < 1e-6] <- 1\n",
    "    diag(mat) <- NA\n",
    "\n",
    "    vec <- reshape2::melt(mat, value.name = \"prob\") %>%\n",
    "                setNames(., c(\"rowcls\", \"colcls\", \"prob\")) %>%\n",
    "                mutate(rowcls = as.character(rowcls), colcls = as.character(colcls)) %>%\n",
    "                mutate(pair = paste0(rowcls, \"|\", colcls)) %>%\n",
    "                filter(!is.na(prob)) %>%\n",
    "                column_to_rownames(\"pair\") %>%\n",
    "                .[cls_pairs, \"prob\"]\n",
    "    vec\n",
    "    }) %>%\n",
    "        setNames(., inter_pre) %>%\n",
    "        as.data.frame(., check.names = FALSE) %>%\n",
    "        t() %>%\n",
    "        as.matrix()\n",
    "colnames(mats) <- cls_pairs\n",
    "mats <- mats[rowSums(mats <= 0.05) > 0, ]\n",
    "\n",
    "\n",
    "inter_final <- rownames(mats)\n",
    "sub_anno <- interactions %>%\n",
    "            subset(interaction_name %in% inter_final) %>%\n",
    "            filter(annotation != \"ECM-Receptor\") %>%\n",
    "            select(interaction_name, pathway_name, pathway_name, ligand, receptor, evidence)\n",
    "mats <- mats[rownames(sub_anno), ]\n",
    "dim(mats)\n",
    "head(mats)"
   ]
  },
  {
   "cell_type": "code",
   "execution_count": 5,
   "metadata": {},
   "outputs": [
    {
     "name": "stderr",
     "output_type": "stream",
     "text": [
      "Pairs unique to the cellphoneDB results\n",
      "\n"
     ]
    },
    {
     "data": {
      "text/html": [
       "<table class=\"dataframe\">\n",
       "<caption>A data.frame: 15 × 6</caption>\n",
       "<thead>\n",
       "\t<tr><th></th><th scope=col>interaction_name</th><th scope=col>pathway_name</th><th scope=col>ligand</th><th scope=col>receptor</th><th scope=col>annotation</th><th scope=col>evidence</th></tr>\n",
       "\t<tr><th></th><th scope=col>&lt;chr&gt;</th><th scope=col>&lt;chr&gt;</th><th scope=col>&lt;chr&gt;</th><th scope=col>&lt;chr&gt;</th><th scope=col>&lt;chr&gt;</th><th scope=col>&lt;chr&gt;</th></tr>\n",
       "</thead>\n",
       "<tbody>\n",
       "\t<tr><th scope=row>COPA_SORT1</th><td>COPA_SORT1      </td><td>COPA </td><td>COPA </td><td>SORT1     </td><td>Secreted Signaling</td><td>SigCellphoneDB</td></tr>\n",
       "\t<tr><th scope=row>EFNA2_EPHA2</th><td>EFNA2_EPHA2     </td><td>EPHA </td><td>EFNA2</td><td>EPHA2     </td><td>Cell-Cell Contact </td><td>SigCellphoneDB</td></tr>\n",
       "\t<tr><th scope=row>FGF19_FGFR1</th><td>FGF19_FGFR1     </td><td>FGF  </td><td>FGF19</td><td>FGFR1     </td><td>Secreted Signaling</td><td>SigCellphoneDB</td></tr>\n",
       "\t<tr><th scope=row>FGF2_FGFRL1</th><td>FGF2_FGFRL1     </td><td>FGF  </td><td>FGF2 </td><td>FGFRL1    </td><td>Secreted Signaling</td><td>SigCellphoneDB</td></tr>\n",
       "\t<tr><th scope=row>FGF3_FGFR3</th><td>FGF3_FGFR3      </td><td>FGF  </td><td>FGF3 </td><td>FGFR3     </td><td>Secreted Signaling</td><td>SigCellphoneDB</td></tr>\n",
       "\t<tr><th scope=row>GDF11_ANTXR1</th><td>GDF11_ANTXR1    </td><td>GDF  </td><td>GDF11</td><td>ANTXR1    </td><td>Secreted Signaling</td><td>SigCellphoneDB</td></tr>\n",
       "\t<tr><th scope=row>GDF11_TGFR_AVR2A</th><td>GDF11_TGFR_AVR2A</td><td>GDF  </td><td>GDF11</td><td>TGFR_AVR2A</td><td>Secreted Signaling</td><td>SigCellphoneDB</td></tr>\n",
       "\t<tr><th scope=row>GDF11_TGFR_AVR2B</th><td>GDF11_TGFR_AVR2B</td><td>GDF  </td><td>GDF11</td><td>TGFR_AVR2B</td><td>Secreted Signaling</td><td>SigCellphoneDB</td></tr>\n",
       "\t<tr><th scope=row>MDK_LRP1</th><td>MDK_LRP1        </td><td>MK   </td><td>MDK  </td><td>LRP1      </td><td>Secreted Signaling</td><td>SigCellphoneDB</td></tr>\n",
       "\t<tr><th scope=row>PROS1_AXL</th><td>PROS1_AXL       </td><td>PROS </td><td>PROS1</td><td>AXL       </td><td>Secreted Signaling</td><td>SigCellphoneDB</td></tr>\n",
       "\t<tr><th scope=row>RSPO2_LGR4</th><td>RSPO2_LGR4      </td><td>RSPO </td><td>RSPO2</td><td>LGR4      </td><td>Secreted Signaling</td><td>SigCellphoneDB</td></tr>\n",
       "\t<tr><th scope=row>TIMP1_FGFR2</th><td>TIMP1_FGFR2     </td><td>FGF  </td><td>TIMP1</td><td>FGFR2     </td><td>Secreted Signaling</td><td>SigCellphoneDB</td></tr>\n",
       "\t<tr><th scope=row>WNT3A_LRP1</th><td>WNT3A_LRP1      </td><td>WNT  </td><td>WNT3A</td><td>LRP1      </td><td>Secreted Signaling</td><td>SigCellphoneDB</td></tr>\n",
       "\t<tr><th scope=row>WNT5A_ROR2</th><td>WNT5A_ROR2      </td><td>ncWNT</td><td>WNT5A</td><td>ROR2      </td><td>Secreted Signaling</td><td>SigCellphoneDB</td></tr>\n",
       "\t<tr><th scope=row>WNT7B_FZD1</th><td>WNT7B_FZD1      </td><td>ncWNT</td><td>WNT7B</td><td>FZD1      </td><td>Secreted Signaling</td><td>SigCellphoneDB</td></tr>\n",
       "</tbody>\n",
       "</table>\n"
      ],
      "text/latex": [
       "A data.frame: 15 × 6\n",
       "\\begin{tabular}{r|llllll}\n",
       "  & interaction\\_name & pathway\\_name & ligand & receptor & annotation & evidence\\\\\n",
       "  & <chr> & <chr> & <chr> & <chr> & <chr> & <chr>\\\\\n",
       "\\hline\n",
       "\tCOPA\\_SORT1 & COPA\\_SORT1       & COPA  & COPA  & SORT1      & Secreted Signaling & SigCellphoneDB\\\\\n",
       "\tEFNA2\\_EPHA2 & EFNA2\\_EPHA2      & EPHA  & EFNA2 & EPHA2      & Cell-Cell Contact  & SigCellphoneDB\\\\\n",
       "\tFGF19\\_FGFR1 & FGF19\\_FGFR1      & FGF   & FGF19 & FGFR1      & Secreted Signaling & SigCellphoneDB\\\\\n",
       "\tFGF2\\_FGFRL1 & FGF2\\_FGFRL1      & FGF   & FGF2  & FGFRL1     & Secreted Signaling & SigCellphoneDB\\\\\n",
       "\tFGF3\\_FGFR3 & FGF3\\_FGFR3       & FGF   & FGF3  & FGFR3      & Secreted Signaling & SigCellphoneDB\\\\\n",
       "\tGDF11\\_ANTXR1 & GDF11\\_ANTXR1     & GDF   & GDF11 & ANTXR1     & Secreted Signaling & SigCellphoneDB\\\\\n",
       "\tGDF11\\_TGFR\\_AVR2A & GDF11\\_TGFR\\_AVR2A & GDF   & GDF11 & TGFR\\_AVR2A & Secreted Signaling & SigCellphoneDB\\\\\n",
       "\tGDF11\\_TGFR\\_AVR2B & GDF11\\_TGFR\\_AVR2B & GDF   & GDF11 & TGFR\\_AVR2B & Secreted Signaling & SigCellphoneDB\\\\\n",
       "\tMDK\\_LRP1 & MDK\\_LRP1         & MK    & MDK   & LRP1       & Secreted Signaling & SigCellphoneDB\\\\\n",
       "\tPROS1\\_AXL & PROS1\\_AXL        & PROS  & PROS1 & AXL        & Secreted Signaling & SigCellphoneDB\\\\\n",
       "\tRSPO2\\_LGR4 & RSPO2\\_LGR4       & RSPO  & RSPO2 & LGR4       & Secreted Signaling & SigCellphoneDB\\\\\n",
       "\tTIMP1\\_FGFR2 & TIMP1\\_FGFR2      & FGF   & TIMP1 & FGFR2      & Secreted Signaling & SigCellphoneDB\\\\\n",
       "\tWNT3A\\_LRP1 & WNT3A\\_LRP1       & WNT   & WNT3A & LRP1       & Secreted Signaling & SigCellphoneDB\\\\\n",
       "\tWNT5A\\_ROR2 & WNT5A\\_ROR2       & ncWNT & WNT5A & ROR2       & Secreted Signaling & SigCellphoneDB\\\\\n",
       "\tWNT7B\\_FZD1 & WNT7B\\_FZD1       & ncWNT & WNT7B & FZD1       & Secreted Signaling & SigCellphoneDB\\\\\n",
       "\\end{tabular}\n"
      ],
      "text/markdown": [
       "\n",
       "A data.frame: 15 × 6\n",
       "\n",
       "| <!--/--> | interaction_name &lt;chr&gt; | pathway_name &lt;chr&gt; | ligand &lt;chr&gt; | receptor &lt;chr&gt; | annotation &lt;chr&gt; | evidence &lt;chr&gt; |\n",
       "|---|---|---|---|---|---|---|\n",
       "| COPA_SORT1 | COPA_SORT1       | COPA  | COPA  | SORT1      | Secreted Signaling | SigCellphoneDB |\n",
       "| EFNA2_EPHA2 | EFNA2_EPHA2      | EPHA  | EFNA2 | EPHA2      | Cell-Cell Contact  | SigCellphoneDB |\n",
       "| FGF19_FGFR1 | FGF19_FGFR1      | FGF   | FGF19 | FGFR1      | Secreted Signaling | SigCellphoneDB |\n",
       "| FGF2_FGFRL1 | FGF2_FGFRL1      | FGF   | FGF2  | FGFRL1     | Secreted Signaling | SigCellphoneDB |\n",
       "| FGF3_FGFR3 | FGF3_FGFR3       | FGF   | FGF3  | FGFR3      | Secreted Signaling | SigCellphoneDB |\n",
       "| GDF11_ANTXR1 | GDF11_ANTXR1     | GDF   | GDF11 | ANTXR1     | Secreted Signaling | SigCellphoneDB |\n",
       "| GDF11_TGFR_AVR2A | GDF11_TGFR_AVR2A | GDF   | GDF11 | TGFR_AVR2A | Secreted Signaling | SigCellphoneDB |\n",
       "| GDF11_TGFR_AVR2B | GDF11_TGFR_AVR2B | GDF   | GDF11 | TGFR_AVR2B | Secreted Signaling | SigCellphoneDB |\n",
       "| MDK_LRP1 | MDK_LRP1         | MK    | MDK   | LRP1       | Secreted Signaling | SigCellphoneDB |\n",
       "| PROS1_AXL | PROS1_AXL        | PROS  | PROS1 | AXL        | Secreted Signaling | SigCellphoneDB |\n",
       "| RSPO2_LGR4 | RSPO2_LGR4       | RSPO  | RSPO2 | LGR4       | Secreted Signaling | SigCellphoneDB |\n",
       "| TIMP1_FGFR2 | TIMP1_FGFR2      | FGF   | TIMP1 | FGFR2      | Secreted Signaling | SigCellphoneDB |\n",
       "| WNT3A_LRP1 | WNT3A_LRP1       | WNT   | WNT3A | LRP1       | Secreted Signaling | SigCellphoneDB |\n",
       "| WNT5A_ROR2 | WNT5A_ROR2       | ncWNT | WNT5A | ROR2       | Secreted Signaling | SigCellphoneDB |\n",
       "| WNT7B_FZD1 | WNT7B_FZD1       | ncWNT | WNT7B | FZD1       | Secreted Signaling | SigCellphoneDB |\n",
       "\n"
      ],
      "text/plain": [
       "                 interaction_name pathway_name ligand receptor  \n",
       "COPA_SORT1       COPA_SORT1       COPA         COPA   SORT1     \n",
       "EFNA2_EPHA2      EFNA2_EPHA2      EPHA         EFNA2  EPHA2     \n",
       "FGF19_FGFR1      FGF19_FGFR1      FGF          FGF19  FGFR1     \n",
       "FGF2_FGFRL1      FGF2_FGFRL1      FGF          FGF2   FGFRL1    \n",
       "FGF3_FGFR3       FGF3_FGFR3       FGF          FGF3   FGFR3     \n",
       "GDF11_ANTXR1     GDF11_ANTXR1     GDF          GDF11  ANTXR1    \n",
       "GDF11_TGFR_AVR2A GDF11_TGFR_AVR2A GDF          GDF11  TGFR_AVR2A\n",
       "GDF11_TGFR_AVR2B GDF11_TGFR_AVR2B GDF          GDF11  TGFR_AVR2B\n",
       "MDK_LRP1         MDK_LRP1         MK           MDK    LRP1      \n",
       "PROS1_AXL        PROS1_AXL        PROS         PROS1  AXL       \n",
       "RSPO2_LGR4       RSPO2_LGR4       RSPO         RSPO2  LGR4      \n",
       "TIMP1_FGFR2      TIMP1_FGFR2      FGF          TIMP1  FGFR2     \n",
       "WNT3A_LRP1       WNT3A_LRP1       WNT          WNT3A  LRP1      \n",
       "WNT5A_ROR2       WNT5A_ROR2       ncWNT        WNT5A  ROR2      \n",
       "WNT7B_FZD1       WNT7B_FZD1       ncWNT        WNT7B  FZD1      \n",
       "                 annotation         evidence      \n",
       "COPA_SORT1       Secreted Signaling SigCellphoneDB\n",
       "EFNA2_EPHA2      Cell-Cell Contact  SigCellphoneDB\n",
       "FGF19_FGFR1      Secreted Signaling SigCellphoneDB\n",
       "FGF2_FGFRL1      Secreted Signaling SigCellphoneDB\n",
       "FGF3_FGFR3       Secreted Signaling SigCellphoneDB\n",
       "GDF11_ANTXR1     Secreted Signaling SigCellphoneDB\n",
       "GDF11_TGFR_AVR2A Secreted Signaling SigCellphoneDB\n",
       "GDF11_TGFR_AVR2B Secreted Signaling SigCellphoneDB\n",
       "MDK_LRP1         Secreted Signaling SigCellphoneDB\n",
       "PROS1_AXL        Secreted Signaling SigCellphoneDB\n",
       "RSPO2_LGR4       Secreted Signaling SigCellphoneDB\n",
       "TIMP1_FGFR2      Secreted Signaling SigCellphoneDB\n",
       "WNT3A_LRP1       Secreted Signaling SigCellphoneDB\n",
       "WNT5A_ROR2       Secreted Signaling SigCellphoneDB\n",
       "WNT7B_FZD1       Secreted Signaling SigCellphoneDB"
      ]
     },
     "metadata": {},
     "output_type": "display_data"
    },
    {
     "name": "stderr",
     "output_type": "stream",
     "text": [
      "the number of pairs in the combine data: 121\n",
      "\n"
     ]
    }
   ],
   "source": [
    "## Load cellphone DB results\n",
    "## combine with cellchat results (only use the cellphoneDB-specific pairs)\n",
    "load(file = paste0(\"./load_files/\", \"Cellphone_filtered_res.rds\"))\n",
    "## pval_cpb, mean_cpb, meta_cpb\n",
    "\n",
    "\n",
    "## use setdiff(meta_cpb$interacting_pair, sub_anno$interaction_name) to get the cellphoneDB exclusive pairs\n",
    "sigmeta <- read.table(file = paste0(\"./load_files/\", \"cpb.exclusive.pairs.txt\"), header = TRUE)\n",
    "rownames(sigmeta) <- sigmeta$interaction_name\n",
    "sigmeta$ligand <- extract_field(sigmeta$interaction_name, 1, \"_\")\n",
    "sigmeta$receptor <- extract_field(sigmeta$interaction_name, \"rm_start\", \"_\")\n",
    "sigmeta$annotation <- ifelse(meta_cpb[rownames(sigmeta), \"secreted\"] == \"True\", \"Secreted Signaling\", \n",
    "                             \"Cell-Cell Contact\")\n",
    "sigmeta$evidence <- \"SigCellphoneDB\"\n",
    "message(\"Pairs unique to the cellphoneDB results\")\n",
    "sigmeta\n",
    "\n",
    "## Combine\n",
    "pval_cpb[pval_cpb > 0.05] <- 1\n",
    "newmats <- rbind(mats, pval_cpb[sigmeta$interaction_name, colnames(mats), drop = FALSE])\n",
    "newmeta <- rbind(sub_anno, sigmeta[, colnames(sub_anno)])\n",
    "newmeta <- newmeta[rownames(newmats), ]\n",
    "message(sprintf(\"the number of pairs in the combine data: %s\", dim(newmeta)[1]))"
   ]
  },
  {
   "cell_type": "code",
   "execution_count": 6,
   "metadata": {},
   "outputs": [
    {
     "data": {
      "text/plain": [
       "\n",
       "Input: \n",
       "#obs= 121  #feature= 12 \n",
       "L1= 12  alpha= 0\n",
       "\n",
       "Result:\n",
       "wbss: 66.40512\n",
       "trimmed cases:\n",
       "#non-zero weights: 12 \n",
       " 10 clusters of sizes 17, 8, 8, 13, 12, 14, 10, 19, 14, 6 "
      ]
     },
     "metadata": {},
     "output_type": "display_data"
    }
   ],
   "source": [
    "## Do clustering on the data\n",
    "smat <- newmats %>%\n",
    "            t() %>% scale()\n",
    "new_path <- newmeta[rownames(newmats), \"pathway_name\"]\n",
    "rare_path <- table(new_path) %>% .[. <= 3] %>% names() %>%\n",
    "                setdiff(., \"BMP\")\n",
    "new_path[new_path %in% rare_path] <- \"rare\"\n",
    "set.seed(42)\n",
    "cc <- RSKC::RSKC(newmats, ncl = 10, alpha = 0)\n",
    "cc"
   ]
  },
  {
   "cell_type": "code",
   "execution_count": 7,
   "metadata": {},
   "outputs": [
    {
     "name": "stderr",
     "output_type": "stream",
     "text": [
      "Warning message:\n",
      "“No assay specified, setting assay as RNA by default.”\n"
     ]
    }
   ],
   "source": [
    "## Do tSNE\n",
    "tsneres <- Seurat::RunTSNE(t(smat), check_duplicates= FALSE)\n",
    "tsnedata <- data.frame(pairs = colnames(smat),\n",
    "                rawpath = newmeta[rownames(newmats), \"pathway_name\"],\n",
    "                pathway = new_path,\n",
    "                stringsAsFactors = FALSE) %>%\n",
    "            cbind(., tsneres@cell.embeddings)\n",
    "tsnedata$cluster <- as.character(cc$labels)\n",
    "\n",
    "## Add randomization to the coordinates \n",
    "## because there are duplicates (pairs with exact same interaction patterns)\n",
    "set.seed(42)\n",
    "tsnedata$tSNE_1 <- tsnedata$tSNE_1 + rnorm(nrow(tsnedata), mean = 0, sd = 0.2)\n",
    "tsnedata$tSNE_2 <- tsnedata$tSNE_2 + rnorm(nrow(tsnedata), mean = 0, sd = 0.2)"
   ]
  },
  {
   "cell_type": "code",
   "execution_count": 8,
   "metadata": {
    "scrolled": true
   },
   "outputs": [
    {
     "data": {
      "text/html": [
       "<style>\n",
       ".list-inline {list-style: none; margin:0; padding: 0}\n",
       ".list-inline>li {display: inline-block}\n",
       ".list-inline>li:not(:last-child)::after {content: \"\\00b7\"; padding: 0 .5ex}\n",
       "</style>\n",
       "<ol class=list-inline><li>121</li><li>6</li></ol>\n"
      ],
      "text/latex": [
       "\\begin{enumerate*}\n",
       "\\item 121\n",
       "\\item 6\n",
       "\\end{enumerate*}\n"
      ],
      "text/markdown": [
       "1. 121\n",
       "2. 6\n",
       "\n",
       "\n"
      ],
      "text/plain": [
       "[1] 121   6"
      ]
     },
     "metadata": {},
     "output_type": "display_data"
    },
    {
     "data": {
      "text/html": [
       "<style>\n",
       ".list-inline {list-style: none; margin:0; padding: 0}\n",
       ".list-inline>li {display: inline-block}\n",
       ".list-inline>li:not(:last-child)::after {content: \"\\00b7\"; padding: 0 .5ex}\n",
       "</style>\n",
       "<ol class=list-inline><li>121</li><li>12</li></ol>\n"
      ],
      "text/latex": [
       "\\begin{enumerate*}\n",
       "\\item 121\n",
       "\\item 12\n",
       "\\end{enumerate*}\n"
      ],
      "text/markdown": [
       "1. 121\n",
       "2. 12\n",
       "\n",
       "\n"
      ],
      "text/plain": [
       "[1] 121  12"
      ]
     },
     "metadata": {},
     "output_type": "display_data"
    },
    {
     "data": {
      "text/html": [
       "<style>\n",
       ".list-inline {list-style: none; margin:0; padding: 0}\n",
       ".list-inline>li {display: inline-block}\n",
       ".list-inline>li:not(:last-child)::after {content: \"\\00b7\"; padding: 0 .5ex}\n",
       "</style>\n",
       "<ol class=list-inline><li>118</li><li>6</li></ol>\n"
      ],
      "text/latex": [
       "\\begin{enumerate*}\n",
       "\\item 118\n",
       "\\item 6\n",
       "\\end{enumerate*}\n"
      ],
      "text/markdown": [
       "1. 118\n",
       "2. 6\n",
       "\n",
       "\n"
      ],
      "text/plain": [
       "[1] 118   6"
      ]
     },
     "metadata": {},
     "output_type": "display_data"
    },
    {
     "data": {
      "text/html": [
       "<style>\n",
       ".list-inline {list-style: none; margin:0; padding: 0}\n",
       ".list-inline>li {display: inline-block}\n",
       ".list-inline>li:not(:last-child)::after {content: \"\\00b7\"; padding: 0 .5ex}\n",
       "</style>\n",
       "<ol class=list-inline><li>118</li><li>12</li></ol>\n"
      ],
      "text/latex": [
       "\\begin{enumerate*}\n",
       "\\item 118\n",
       "\\item 12\n",
       "\\end{enumerate*}\n"
      ],
      "text/markdown": [
       "1. 118\n",
       "2. 12\n",
       "\n",
       "\n"
      ],
      "text/plain": [
       "[1] 118  12"
      ]
     },
     "metadata": {},
     "output_type": "display_data"
    }
   ],
   "source": [
    "## Remove three duplicated interaction pairs that were mistakenly introduced by manual curation\n",
    "dim(tsnedata)\n",
    "dim(newmats)\n",
    "tsnedata <- tsnedata[!rownames(tsnedata) %in% c('FGF2_FGFRL11', 'WNT3A_LRP11', 'WNT5A_ROR21'), , drop = FALSE]\n",
    "newmats <- newmats[rownames(tsnedata), , drop = FALSE]\n",
    "dim(tsnedata)\n",
    "dim(newmats)"
   ]
  },
  {
   "cell_type": "code",
   "execution_count": 9,
   "metadata": {},
   "outputs": [],
   "source": [
    "## Save the results\n",
    "save(tsnedata, newmats, file = \"./load_files/LR_combined_results.Rdata\")"
   ]
  },
  {
   "cell_type": "code",
   "execution_count": 19,
   "metadata": {
    "scrolled": false
   },
   "outputs": [
    {
     "data": {
      "text/plain": [
       "R version 3.6.1 (2019-07-05)\n",
       "Platform: x86_64-pc-linux-gnu (64-bit)\n",
       "Running under: Red Hat Enterprise Linux Server 7.9 (Maipo)\n",
       "\n",
       "Matrix products: default\n",
       "BLAS:   /gpfs/ycga/home/sm2726/packages/R_versions/R-3.6.1/lib64/R/lib/libRblas.so\n",
       "LAPACK: /gpfs/ycga/home/sm2726/packages/R_versions/R-3.6.1/lib64/R/lib/libRlapack.so\n",
       "\n",
       "locale:\n",
       " [1] LC_CTYPE=en_US.UTF-8       LC_NUMERIC=C              \n",
       " [3] LC_TIME=en_US.UTF-8        LC_COLLATE=en_US.UTF-8    \n",
       " [5] LC_MONETARY=en_US.UTF-8    LC_MESSAGES=en_US.UTF-8   \n",
       " [7] LC_PAPER=en_US.UTF-8       LC_NAME=C                 \n",
       " [9] LC_ADDRESS=C               LC_TELEPHONE=C            \n",
       "[11] LC_MEASUREMENT=en_US.UTF-8 LC_IDENTIFICATION=C       \n",
       "\n",
       "attached base packages:\n",
       "[1] parallel  stats     graphics  grDevices utils     datasets  methods  \n",
       "[8] base     \n",
       "\n",
       "other attached packages:\n",
       " [1] ggsankey_0.0.99999  tibble_3.0.1        tidyr_1.1.3        \n",
       " [4] circlize_0.4.13     ggpubr_0.3.0        patchwork_1.0.0    \n",
       " [7] CellChat_1.1.3      bigmemory_4.6.1     Biobase_2.46.0     \n",
       "[10] BiocGenerics_0.32.0 ggplot2_3.3.0       igraph_1.2.5       \n",
       "[13] dplyr_1.0.7         Seurat_3.1.5       \n",
       "\n",
       "loaded via a namespace (and not attached):\n",
       "  [1] readxl_1.3.1         uuid_1.1-0           backports_1.1.6     \n",
       "  [4] systemfonts_1.0.4    NMF_0.23.0           plyr_1.8.6          \n",
       "  [7] repr_1.1.6           lazyeval_0.2.2       splines_3.6.1       \n",
       " [10] listenv_0.8.0        gridBase_0.4-7       digest_0.6.25       \n",
       " [13] foreach_1.5.0        htmltools_0.5.1.1    viridis_0.5.1       \n",
       " [16] ggalluvial_0.11.3    fansi_0.4.1          magrittr_2.0.3      \n",
       " [19] rle_0.9.2            cluster_2.1.0        doParallel_1.0.15   \n",
       " [22] ROCR_1.0-11          openxlsx_4.1.5       sna_2.6             \n",
       " [25] ComplexHeatmap_2.2.0 globals_0.12.5       svglite_2.0.0       \n",
       " [28] colorspace_1.4-1     ggrepel_0.8.2        haven_2.5.0         \n",
       " [31] crayon_1.3.4         jsonlite_1.6.1       bigmemory.sri_0.1.3 \n",
       " [34] survival_3.1-12      zoo_1.8-8            iterators_1.0.12    \n",
       " [37] ape_5.3              glue_1.6.2           registry_0.5-1      \n",
       " [40] gtable_0.3.0         leiden_0.3.3         GetoptLong_0.1.8    \n",
       " [43] car_3.0-7            RSKC_2.4.2           future.apply_1.5.0  \n",
       " [46] shape_1.4.4          abind_1.4-5          scales_1.1.1        \n",
       " [49] pheatmap_1.0.12      DBI_1.1.0            rngtools_1.5        \n",
       " [52] bibtex_0.4.2.2       rstatix_0.5.0        Rcpp_1.0.6          \n",
       " [55] viridisLite_0.3.0    xtable_1.8-4         clue_0.3-57         \n",
       " [58] reticulate_1.15      foreign_0.8-72       rsvd_1.0.3          \n",
       " [61] stats4_3.6.1         tsne_0.1-3           htmlwidgets_1.5.1   \n",
       " [64] httr_1.4.1           FNN_1.1.3            RColorBrewer_1.1-2  \n",
       " [67] modeltools_0.2-23    ellipsis_0.3.2       ica_1.0-2           \n",
       " [70] farver_2.0.3         pkgconfig_2.0.3      uwot_0.1.8          \n",
       " [73] utf8_1.1.4           labeling_0.3         tidyselect_1.1.0    \n",
       " [76] rlang_0.4.11         reshape2_1.4.4       cellranger_1.1.0    \n",
       " [79] munsell_0.5.0        tools_3.6.1          cli_3.3.0           \n",
       " [82] generics_0.1.0       statnet.common_4.4.1 broom_0.5.6         \n",
       " [85] ggridges_0.5.3       evaluate_0.15        stringr_1.4.0       \n",
       " [88] npsurv_0.4-0.1       fitdistrplus_1.0-14  zip_2.0.4           \n",
       " [91] purrr_0.3.4          RANN_2.6.1           pbapply_1.4-2       \n",
       " [94] future_1.17.0        nlme_3.1-147         flexclust_1.4-1     \n",
       " [97] compiler_3.6.1       plotly_4.9.2.1       curl_4.3            \n",
       "[100] png_0.1-7            lsei_1.2-0.1         ggsignif_0.6.0      \n",
       "[103] stringi_1.4.6        RSpectra_0.16-0      forcats_0.5.0       \n",
       "[106] lattice_0.20-41      IRdisplay_1.1        Matrix_1.2-18       \n",
       "[109] vctrs_0.3.8          pillar_1.6.2         lifecycle_1.0.0     \n",
       "[112] lmtest_0.9-37        GlobalOptions_0.1.2  RcppAnnoy_0.0.16    \n",
       "[115] data.table_1.12.8    cowplot_1.0.0        irlba_2.3.3         \n",
       "[118] R6_2.4.1             network_1.16.1       KernSmooth_2.23-17  \n",
       "[121] gridExtra_2.3        rio_0.5.16           codetools_0.2-16    \n",
       "[124] MASS_7.3-51.6        assertthat_0.2.1     pkgmaker_0.31.1     \n",
       "[127] rjson_0.2.20         withr_2.5.0          sctransform_0.2.1   \n",
       "[130] hms_0.5.3            grid_3.6.1           IRkernel_1.3.2      \n",
       "[133] class_7.3-17         coda_0.19-3          carData_3.0-3       \n",
       "[136] Cairo_1.5-15         Rtsne_0.15           pbdZMQ_0.3-9        \n",
       "[139] base64enc_0.1-3     "
      ]
     },
     "metadata": {},
     "output_type": "display_data"
    }
   ],
   "source": [
    "sessionInfo()"
   ]
  }
 ],
 "metadata": {
  "kernelspec": {
   "display_name": "R",
   "language": "R",
   "name": "ir"
  },
  "language_info": {
   "codemirror_mode": "r",
   "file_extension": ".r",
   "mimetype": "text/x-r-source",
   "name": "R",
   "pygments_lexer": "r",
   "version": "3.6.1"
  }
 },
 "nbformat": 4,
 "nbformat_minor": 2
}
